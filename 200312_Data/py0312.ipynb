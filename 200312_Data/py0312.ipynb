{
 "cells": [
  {
   "cell_type": "markdown",
   "metadata": {},
   "source": [
    "# 오전 수업"
   ]
  },
  {
   "cell_type": "code",
   "execution_count": null,
   "metadata": {},
   "outputs": [],
   "source": []
  },
  {
   "cell_type": "code",
   "execution_count": null,
   "metadata": {},
   "outputs": [],
   "source": []
  },
  {
   "cell_type": "markdown",
   "metadata": {},
   "source": [
    "# ** 지수 이동 평균\n",
    "\n",
    "### - DataFrame.ewm (span = 가중치를 부여할 데이터 개수).mean()\n",
    "\n",
    "#### 알파 = 1 / span\n",
    "#### 최근 데이터 + (1-알파)이전 데이터 + (1-알파)제곱* 그 이전 데이터\n",
    "\n",
    "### - 최근의 데이터 반영 비율을 높이고 이전 데이터의 반영 비율을 줄여서 계산 하는 방식"
   ]
  },
  {
   "cell_type": "code",
   "execution_count": 36,
   "metadata": {},
   "outputs": [
    {
     "name": "stdout",
     "output_type": "stream",
     "text": [
      "            price\n",
      "2020-01-31     10\n",
      "2020-02-29     20\n",
      "2020-03-31     30\n",
      "2020-04-30     40\n",
      "2020-05-31     50\n"
     ]
    }
   ],
   "source": [
    "import numpy as np\n",
    "import pandas as pd\n",
    "\n",
    "# 2020년 1월 1일부터 월 단위로 5개의 데이터를 생성\n",
    "timeindex = pd.date_range('01/01/2020', periods = 5, freq = 'M')\n",
    "\n",
    "df = pd.DataFrame(index = timeindex)\n",
    "\n",
    "df[\"price\"] = [10, 20, 30, 40, 50]\n",
    "\n",
    "print(df)"
   ]
  },
  {
   "cell_type": "code",
   "execution_count": 37,
   "metadata": {},
   "outputs": [
    {
     "name": "stdout",
     "output_type": "stream",
     "text": [
      "                price\n",
      "2020-01-31  10.000000\n",
      "2020-02-29  17.500000\n",
      "2020-03-31  26.153846\n",
      "2020-04-30  35.500000\n",
      "2020-05-31  45.206612\n"
     ]
    }
   ],
   "source": [
    "# span을 2로 설정해서 지수이동평균 구하기\n",
    "print(df.ewm(span=2).mean())"
   ]
  },
  {
   "cell_type": "markdown",
   "metadata": {},
   "source": [
    "### - 주가 데이터에 많이 사용\n",
    "### - 주가는 최근 데이터의 추세를 반영하는 것이 예측의 정확성을 높여주기 때문"
   ]
  },
  {
   "cell_type": "code",
   "execution_count": null,
   "metadata": {},
   "outputs": [],
   "source": []
  },
  {
   "cell_type": "markdown",
   "metadata": {},
   "source": [
    "# ** 시계열 데이터에서의 누락된 값\n",
    "\n",
    "### - 시간의 간격이 일정한 상태에서 데이터가 누락된 경우라면 제거하는 것보다 패턴을 확인해서 데이터를 대입해놓는 것이 좋음\n",
    "\n",
    "#### 2019-01-01: 100\n",
    "#### 2019-02-01: 200\n",
    "#### 2019-03-01: None\n",
    "#### 2019-04-01: 400\n",
    "\n",
    "### - DataFrame의 interpolate 함수를 호출하면 누락된 값을 채워줌\n",
    "#### > 매개변수가 없으면 선형으로 관계를 파악해서 채워주고 method에 quardratic을 설정 시 비선형으로 채워줌\n",
    "\n",
    "#### aX + b\n",
    "#### : 일차 방정식\n",
    "#### - 데이터의 분포가 직선에 가까워짐\n",
    "\n",
    "#### aX**2 + bX + c\n",
    "#### : 이차 방정식\n",
    "#### - 데이터의 분포가 곡선에 가까워짐\n",
    "\n",
    "#### > 머신러닝을 할 때도 회귀나 분류하기 전에 데이터의 분포를 확인해야 함\n",
    "#### > 데이터의 분포를 확인할 때는 산포도(scatter)를 많이 이용"
   ]
  },
  {
   "cell_type": "code",
   "execution_count": 4,
   "metadata": {},
   "outputs": [
    {
     "name": "stdout",
     "output_type": "stream",
     "text": [
      "            price\n",
      "2020-01-31   10.0\n",
      "2020-02-29   20.0\n",
      "2020-03-31   30.0\n",
      "2020-04-30   40.0\n",
      "2020-05-31   50.0\n",
      "2020-06-30   60.0\n",
      "2020-07-31   70.0\n",
      "2020-08-31   80.0\n",
      "2020-09-30   90.0\n",
      "2020-10-31  100.0\n",
      "2020-11-30  110.0\n",
      "2020-12-31  120.0\n"
     ]
    }
   ],
   "source": [
    "# 선형으로 누락된 값 채우기\n",
    "# 2020년 1월 1일부터 월 단위로 5개의 데이터를 생성\n",
    "timeindex = pd.date_range('01/01/2020', periods = 12, freq = 'M')\n",
    "\n",
    "df = pd.DataFrame(index = timeindex)\n",
    "\n",
    "# 누락된 데이터(결측치 - None, null, np.NaN) 만들기\n",
    "df[\"price\"] = [10, 20, np.NaN, 40, 50, 60, 70, 80, 90, np.NaN, 110, 120]\n",
    "\n",
    "print(df.interpolate())"
   ]
  },
  {
   "cell_type": "code",
   "execution_count": 7,
   "metadata": {},
   "outputs": [
    {
     "name": "stdout",
     "output_type": "stream",
     "text": [
      "                   price\n",
      "2020-01-31    100.000000\n",
      "2020-02-29    400.000000\n",
      "2020-03-31    915.994832\n",
      "2020-04-30   1600.000000\n",
      "2020-05-31   2500.000000\n",
      "2020-06-30   3600.000000\n",
      "2020-07-31   4900.000000\n",
      "2020-08-31   6400.000000\n",
      "2020-09-30   8100.000000\n",
      "2020-10-31  10045.819905\n",
      "2020-11-30  12100.000000\n",
      "2020-12-31  14400.000000\n",
      "              price\n",
      "2020-01-31    100.0\n",
      "2020-02-29    400.0\n",
      "2020-03-31   1000.0\n",
      "2020-04-30   1600.0\n",
      "2020-05-31   2500.0\n",
      "2020-06-30   3600.0\n",
      "2020-07-31   4900.0\n",
      "2020-08-31   6400.0\n",
      "2020-09-30   8100.0\n",
      "2020-10-31  10100.0\n",
      "2020-11-30  12100.0\n",
      "2020-12-31  14400.0\n"
     ]
    }
   ],
   "source": [
    "# 비선형으로 누락된 값 채우기\n",
    "# 2020년 1월 1일부터 월 단위로 5개의 데이터를 생성\n",
    "timeindex = pd.date_range('01/01/2020', periods = 12, freq = 'M')\n",
    "\n",
    "df = pd.DataFrame(index = timeindex)\n",
    "\n",
    "# 누락된 데이터(결측치 - None, null, np.NaN) 만들기\n",
    "df[\"price\"] = [100, 400, np.NaN, 1600, 2500, 3600, 4900, 6400, 8100, np.NaN, 12100, 14400]\n",
    "\n",
    "print(df.interpolate(method = 'quadratic'))\n",
    "print(df.interpolate(method = 'linear'))"
   ]
  },
  {
   "cell_type": "code",
   "execution_count": null,
   "metadata": {},
   "outputs": [],
   "source": []
  },
  {
   "cell_type": "markdown",
   "metadata": {},
   "source": [
    "# ** Pandas의 함수 매핑\n",
    "\n",
    "### - pandas에서는 Series나 DataFrame의 개별 요소에 동일한 함수를 적용하고자 하는 경우 apply 메소드 이용\n",
    "\n",
    "\n",
    "## 1. Series가 apply 메소드 호출 시 각 요소에 함수를 적용한 후 그 결과를 가지고 다시 Series를 만들어 리턴\n",
    "\n",
    "\n",
    "## 2. DataFrame에 적용하면 적용방법에 따라 Series가 되거나 DataFrame이 리턴되기도 함\n",
    "#### > axis 옵션을 이용하여 열과 행 단위로 데이터 대입 가능\n",
    "#### > axis = 0 이 기본값으로 열단위로 대입, 1 설정 시 행단위로 함수에 대입\n",
    "\n",
    "### - Series는 하나의 열의 개념이고 DataFrame은 행열(Matrix - Table)\n",
    "### - 머신러닝에서는 데이터의 단위가 대부분 Matrix임\n",
    "\n",
    "#### DataFrame['컬럼이름']\n",
    "#### : Series\n",
    "\n",
    "#### DataFrame[['컬럼이름']]\n",
    "#### : DataFrame\n",
    "\n",
    "#### > pandas 자료구조에서 .values 할 시 컬럼이름을 제거하고 데이터만으로 구성된 numpy.ndarray 리턴\n",
    "\n",
    "### - 머신러닝에서는 컬럼이름 불필요"
   ]
  },
  {
   "cell_type": "code",
   "execution_count": 8,
   "metadata": {},
   "outputs": [
    {
     "name": "stdout",
     "output_type": "stream",
     "text": [
      "<class 'pandas.core.frame.DataFrame'>\n",
      "RangeIndex: 891 entries, 0 to 890\n",
      "Data columns (total 15 columns):\n",
      "survived       891 non-null int64\n",
      "pclass         891 non-null int64\n",
      "sex            891 non-null object\n",
      "age            714 non-null float64\n",
      "sibsp          891 non-null int64\n",
      "parch          891 non-null int64\n",
      "fare           891 non-null float64\n",
      "embarked       889 non-null object\n",
      "class          891 non-null category\n",
      "who            891 non-null object\n",
      "adult_male     891 non-null bool\n",
      "deck           203 non-null category\n",
      "embark_town    889 non-null object\n",
      "alive          891 non-null object\n",
      "alone          891 non-null bool\n",
      "dtypes: bool(2), category(2), float64(2), int64(4), object(5)\n",
      "memory usage: 80.6+ KB\n"
     ]
    }
   ],
   "source": [
    "# seaborn 패키지에 존재하는 titanic 데이터 가져오기\n",
    "# 인터넷에서 가져오기 때문에 인터넷 연결 필수\n",
    "# seaborn 패키지: 샘플 데이터 셋과 matplotlib보다 시각적인 효과가 뛰어난 그래프를 만들어주는 패키지\n",
    "# numpy, pandas, matplotlib, seaborn, sklearn (전처리, 머신러닝)\n",
    "import seaborn as sns\n",
    "titanic = sns.load_dataset('titanic')\n",
    "titanic.info()"
   ]
  },
  {
   "cell_type": "code",
   "execution_count": 9,
   "metadata": {},
   "outputs": [
    {
     "name": "stdout",
     "output_type": "stream",
     "text": [
      "<class 'pandas.core.frame.DataFrame'>\n",
      "RangeIndex: 891 entries, 0 to 890\n",
      "Data columns (total 2 columns):\n",
      "age     714 non-null float64\n",
      "fare    891 non-null float64\n",
      "dtypes: float64(2)\n",
      "memory usage: 14.0 KB\n"
     ]
    }
   ],
   "source": [
    "# 2개의 컬럼을 추출해서 새로운 DataFrame 만들기\n",
    "# age, fare\n",
    "df = titanic[['age', 'fare']]\n",
    "df.info()"
   ]
  },
  {
   "cell_type": "code",
   "execution_count": 14,
   "metadata": {},
   "outputs": [
    {
     "name": "stdout",
     "output_type": "stream",
     "text": [
      "<class 'pandas.core.frame.DataFrame'>\n",
      "RangeIndex: 891 entries, 0 to 890\n",
      "Data columns (total 2 columns):\n",
      "age     714 non-null float64\n",
      "fare    891 non-null float64\n",
      "dtypes: float64(2)\n",
      "memory usage: 14.0 KB\n",
      "\n"
     ]
    }
   ],
   "source": [
    "# 행 전체의 age와 fare 열 가져오기\n",
    "df = titanic.loc[:, ['age', 'fare']]\n",
    "df.info()\n",
    "# 결과는 같음\n",
    "print()\n",
    "\n",
    "#df = titanic.loc[1:10, ['age', 'fare']]\n",
    "#df.info()"
   ]
  },
  {
   "cell_type": "code",
   "execution_count": 17,
   "metadata": {},
   "outputs": [
    {
     "name": "stdout",
     "output_type": "stream",
     "text": [
      "    age     fare\n",
      "0  32.0  17.2500\n",
      "1  48.0  81.2833\n",
      "2  36.0  17.9250\n",
      "3  45.0  63.1000\n",
      "4  45.0  18.0500\n",
      "<class 'pandas.core.frame.DataFrame'>\n",
      "RangeIndex: 891 entries, 0 to 890\n",
      "Data columns (total 2 columns):\n",
      "age     714 non-null float64\n",
      "fare    891 non-null float64\n",
      "dtypes: float64(2)\n",
      "memory usage: 14.0 KB\n",
      "\n",
      "    age     fare\n",
      "0  32.0  17.2500\n",
      "1  48.0  81.2833\n",
      "2  36.0  17.9250\n",
      "3  45.0  63.1000\n",
      "4  45.0  18.0500\n",
      "<class 'pandas.core.frame.DataFrame'>\n",
      "RangeIndex: 891 entries, 0 to 890\n",
      "Data columns (total 2 columns):\n",
      "age     714 non-null float64\n",
      "fare    891 non-null float64\n",
      "dtypes: float64(2)\n",
      "memory usage: 14.0 KB\n"
     ]
    }
   ],
   "source": [
    "def add_10(x) :\n",
    "    return x + 10\n",
    "\n",
    "# 데이터 프레임에 함수 적용 - 열단위로 적용\n",
    "result = df.apply(add_10)\n",
    "print(result.head())\n",
    "result.info()\n",
    "\n",
    "print()\n",
    "\n",
    "# 행단위 적용\n",
    "result = df.apply(add_10, axis = 1)\n",
    "print(result.head())\n",
    "result.info()"
   ]
  },
  {
   "cell_type": "code",
   "execution_count": null,
   "metadata": {},
   "outputs": [],
   "source": []
  },
  {
   "cell_type": "code",
   "execution_count": null,
   "metadata": {},
   "outputs": [],
   "source": []
  },
  {
   "cell_type": "markdown",
   "metadata": {},
   "source": [
    "# ** DataFrame 결합\n",
    "\n",
    "\n",
    "## 1. merge()\n",
    "\n",
    "### - 2개의 DataFrame이나 Series를 합치기 위한 함수\n",
    "### - 첫번째와 두번째 매개변수는 합치기 위한 Series나 DataFrame을 설정해야 하는데 left와 right 매개변수로 대입해도 됨\n",
    "### - 하나 이상의 key를 가지고 결합\n",
    "### - 관계형 데이터베이스의 join과 유사\n",
    "### - 별다른 설정이 없으면 동일한 컬럼이름을 찾아서 join\n",
    "### - 직접 join key를 지정하고자 하면 on 매개변수에 컬럼이름을 설정\n",
    "### - 양쪽의 key 이름이 다른 경우 left_on 그리고  rignt_on 매개변수를 이용하여 직접 key 설정"
   ]
  },
  {
   "cell_type": "code",
   "execution_count": null,
   "metadata": {},
   "outputs": [],
   "source": []
  },
  {
   "cell_type": "code",
   "execution_count": 4,
   "metadata": {},
   "outputs": [
    {
     "name": "stdout",
     "output_type": "stream",
     "text": [
      "C:\\Users\\admin\n"
     ]
    }
   ],
   "source": [
    "import os\n",
    "print(os.getcwd())"
   ]
  },
  {
   "cell_type": "code",
   "execution_count": 6,
   "metadata": {},
   "outputs": [
    {
     "name": "stdout",
     "output_type": "stream",
     "text": [
      "<class 'pandas.core.frame.DataFrame'>\n",
      "RangeIndex: 10 entries, 0 to 9\n",
      "Data columns (total 4 columns):\n",
      "id            10 non-null int64\n",
      "stock_name    10 non-null object\n",
      "value         10 non-null float64\n",
      "price         10 non-null int64\n",
      "dtypes: float64(1), int64(2), object(1)\n",
      "memory usage: 448.0+ bytes\n",
      "\n",
      "<class 'pandas.core.frame.DataFrame'>\n",
      "RangeIndex: 10 entries, 0 to 9\n",
      "Data columns (total 6 columns):\n",
      "id      10 non-null int64\n",
      "name    10 non-null object\n",
      "eps     10 non-null float64\n",
      "bps     10 non-null int64\n",
      "per     10 non-null float64\n",
      "pbr     10 non-null float64\n",
      "dtypes: float64(3), int64(2), object(1)\n",
      "memory usage: 608.0+ bytes\n"
     ]
    }
   ],
   "source": [
    "# stock price.xlsx 파일과 stock valuation.xlsx 파일 읽기\n",
    "#import numpy as np\n",
    "#import pandas as pd\n",
    "\n",
    "price = pd.read_excel('./data/stock price.xlsx')\n",
    "valuation = pd.read_excel('./data/stock valuation.xlsx')\n",
    "price.info(); print()\n",
    "valuation.info()"
   ]
  },
  {
   "cell_type": "code",
   "execution_count": 9,
   "metadata": {},
   "outputs": [
    {
     "name": "stdout",
     "output_type": "stream",
     "text": [
      "       id stock_name          value   price    name           eps     bps  \\\n",
      "0  130960     CJ E&M   58540.666667   98900  CJ E&M   6301.333333   54068   \n",
      "1  139480        이마트  239230.833333  254500     이마트  18268.166667  295780   \n",
      "2  145990        삼양사   82750.000000   82000     삼양사   5741.000000  108090   \n",
      "3  185750        종근당   40293.666667  100500     종근당   3990.333333   40684   \n",
      "4  204210     모두투어리츠    3093.333333    3475  모두투어리츠     85.166667    5335   \n",
      "\n",
      "         per       pbr  \n",
      "0  15.695091  1.829178  \n",
      "1  13.931338  0.860437  \n",
      "2  14.283226  0.758627  \n",
      "3  25.185866  2.470259  \n",
      "4  40.802348  0.651359  \n",
      "\n",
      "<class 'pandas.core.frame.DataFrame'>\n",
      "Int64Index: 5 entries, 0 to 4\n",
      "Data columns (total 9 columns):\n",
      "id            5 non-null int64\n",
      "stock_name    5 non-null object\n",
      "value         5 non-null float64\n",
      "price         5 non-null int64\n",
      "name          5 non-null object\n",
      "eps           5 non-null float64\n",
      "bps           5 non-null int64\n",
      "per           5 non-null float64\n",
      "pbr           5 non-null float64\n",
      "dtypes: float64(4), int64(3), object(2)\n",
      "memory usage: 400.0+ bytes\n"
     ]
    }
   ],
   "source": [
    "# 2개의 DataFrame을 id 기준으로 합치기\n",
    "# 양쪽 모두에 존재하는 데이터만 조인에 참여 - InnerJoin\n",
    "merge_inner = pd.merge(price, valuation)\n",
    "print(merge_inner); print()\n",
    "merge_inner.info()"
   ]
  },
  {
   "cell_type": "markdown",
   "metadata": {},
   "source": [
    "### - 기본 merge는 join의 개념\n",
    "### - 어느 한쪽에만 존재하는 데이터를 merge에 참여시킬 때는 how라는 매개변수에 left, right, outer 중 하나 설정함\n",
    "#### > 이러한 join 방식을 Outer join이라 함\n",
    "\n",
    "### - key가 아닌 컬럼 중 양쪽에 동일한 이름으로 존재하는 컬럼이 있을 시 _x와 _y라는 이름이 자동삽입\n",
    "### - 변경 원할 시 suffixes 옵션에 tuple로 추가될 이름 2개를 설정\n",
    "\n",
    "### - 양쪽에 동일한 의미를 갖는 컬럼이 없는 경우 index를 이용해서 join 가능\n",
    "### - 이 경우 left_index = True, right_index = True 추가\n",
    "\n",
    "### - merge를 수행하면 key 값으로 정렬을 수행하나 sort 옵션에 false 설정 시 정렬 비수행"
   ]
  },
  {
   "cell_type": "code",
   "execution_count": 10,
   "metadata": {},
   "outputs": [
    {
     "name": "stdout",
     "output_type": "stream",
     "text": [
      "        id stock_name          value     price       name           eps  \\\n",
      "0   128940       한미약품   59385.666667  421000.0        NaN           NaN   \n",
      "1   130960     CJ E&M   58540.666667   98900.0     CJ E&M   6301.333333   \n",
      "2   138250      엔에스쇼핑   14558.666667   13200.0        NaN           NaN   \n",
      "3   139480        이마트  239230.833333  254500.0        이마트  18268.166667   \n",
      "4   142280     녹십자엠에스     468.833333   10200.0        NaN           NaN   \n",
      "5   145990        삼양사   82750.000000   82000.0        삼양사   5741.000000   \n",
      "6   185750        종근당   40293.666667  100500.0        종근당   3990.333333   \n",
      "7   192400      쿠쿠홀딩스  179204.666667  177500.0        NaN           NaN   \n",
      "8   199800         툴젠   -2514.333333  115400.0        NaN           NaN   \n",
      "9   204210     모두투어리츠    3093.333333    3475.0     모두투어리츠     85.166667   \n",
      "10  136480        NaN            NaN       NaN         하림    274.166667   \n",
      "11  138040        NaN            NaN       NaN    메리츠금융지주   2122.333333   \n",
      "12  161390        NaN            NaN       NaN      한국타이어   5648.500000   \n",
      "13  181710        NaN            NaN       NaN  NHN엔터테인먼트   2110.166667   \n",
      "14  207940        NaN            NaN       NaN   삼성바이오로직스   4644.166667   \n",
      "\n",
      "         bps        per       pbr  \n",
      "0        NaN        NaN       NaN  \n",
      "1    54068.0  15.695091  1.829178  \n",
      "2        NaN        NaN       NaN  \n",
      "3   295780.0  13.931338  0.860437  \n",
      "4        NaN        NaN       NaN  \n",
      "5   108090.0  14.283226  0.758627  \n",
      "6    40684.0  25.185866  2.470259  \n",
      "7        NaN        NaN       NaN  \n",
      "8        NaN        NaN       NaN  \n",
      "9     5335.0  40.802348  0.651359  \n",
      "10    3551.0  11.489362  0.887074  \n",
      "11   14894.0   6.313806  0.899691  \n",
      "12   51341.0   7.453306  0.820007  \n",
      "13   78434.0  30.755864  0.827447  \n",
      "14   60099.0  89.790059  6.938551  \n"
     ]
    }
   ],
   "source": [
    "# 어느 한쪽에만 존재하는 데이터도 join에 참여 - outer join\n",
    "merge_outer = pd.merge(price, valuation, how = 'outer', on = 'id')\n",
    "print(merge_outer)"
   ]
  },
  {
   "cell_type": "code",
   "execution_count": null,
   "metadata": {},
   "outputs": [],
   "source": []
  },
  {
   "cell_type": "markdown",
   "metadata": {},
   "source": [
    "## 2. join\n",
    "### : 인덱스를 기준으로 합쳐주는 함수\n",
    "#### DataFrame.join(다른 데이터 프레임)"
   ]
  },
  {
   "cell_type": "code",
   "execution_count": 13,
   "metadata": {},
   "outputs": [
    {
     "name": "stdout",
     "output_type": "stream",
     "text": [
      "<class 'pandas.core.frame.DataFrame'>\n",
      "Int64Index: 10 entries, 128940 to 204210\n",
      "Data columns (total 3 columns):\n",
      "stock_name    10 non-null object\n",
      "value         10 non-null float64\n",
      "price         10 non-null int64\n",
      "dtypes: float64(1), int64(1), object(1)\n",
      "memory usage: 320.0+ bytes\n",
      "\n",
      "<class 'pandas.core.frame.DataFrame'>\n",
      "Int64Index: 10 entries, 130960 to 207940\n",
      "Data columns (total 5 columns):\n",
      "name    10 non-null object\n",
      "eps     10 non-null float64\n",
      "bps     10 non-null int64\n",
      "per     10 non-null float64\n",
      "pbr     10 non-null float64\n",
      "dtypes: float64(3), int64(1), object(1)\n",
      "memory usage: 480.0+ bytes\n",
      "\n",
      "       stock_name          value   price\n",
      "id                                      \n",
      "128940       한미약품   59385.666667  421000\n",
      "130960     CJ E&M   58540.666667   98900\n",
      "138250      엔에스쇼핑   14558.666667   13200\n",
      "139480        이마트  239230.833333  254500\n",
      "142280     녹십자엠에스     468.833333   10200\n",
      "\n",
      "           name           eps     bps        per       pbr\n",
      "id                                                        \n",
      "130960   CJ E&M   6301.333333   54068  15.695091  1.829178\n",
      "136480       하림    274.166667    3551  11.489362  0.887074\n",
      "138040  메리츠금융지주   2122.333333   14894   6.313806  0.899691\n",
      "139480      이마트  18268.166667  295780  13.931338  0.860437\n",
      "145990      삼양사   5741.000000  108090  14.283226  0.758627\n"
     ]
    }
   ],
   "source": [
    "# 파일의 내용을 읽을 때 하나의 컬럼을 인덱스로 설정\n",
    "price = pd.read_excel('./data/stock price.xlsx', index_col = 'id')\n",
    "valuation = pd.read_excel('./data/stock valuation.xlsx', index_col = 'id')\n",
    "price.info(); print()\n",
    "valuation.info(); print()\n",
    "print(price.head()); print()\n",
    "print(valuation.head())"
   ]
  },
  {
   "cell_type": "code",
   "execution_count": 14,
   "metadata": {},
   "outputs": [
    {
     "name": "stdout",
     "output_type": "stream",
     "text": [
      "       stock_name          value   price    name           eps       bps  \\\n",
      "id                                                                         \n",
      "128940       한미약품   59385.666667  421000     NaN           NaN       NaN   \n",
      "130960     CJ E&M   58540.666667   98900  CJ E&M   6301.333333   54068.0   \n",
      "138250      엔에스쇼핑   14558.666667   13200     NaN           NaN       NaN   \n",
      "139480        이마트  239230.833333  254500     이마트  18268.166667  295780.0   \n",
      "142280     녹십자엠에스     468.833333   10200     NaN           NaN       NaN   \n",
      "145990        삼양사   82750.000000   82000     삼양사   5741.000000  108090.0   \n",
      "185750        종근당   40293.666667  100500     종근당   3990.333333   40684.0   \n",
      "192400      쿠쿠홀딩스  179204.666667  177500     NaN           NaN       NaN   \n",
      "199800         툴젠   -2514.333333  115400     NaN           NaN       NaN   \n",
      "204210     모두투어리츠    3093.333333    3475  모두투어리츠     85.166667    5335.0   \n",
      "\n",
      "              per       pbr  \n",
      "id                           \n",
      "128940        NaN       NaN  \n",
      "130960  15.695091  1.829178  \n",
      "138250        NaN       NaN  \n",
      "139480  13.931338  0.860437  \n",
      "142280        NaN       NaN  \n",
      "145990  14.283226  0.758627  \n",
      "185750  25.185866  2.470259  \n",
      "192400        NaN       NaN  \n",
      "199800        NaN       NaN  \n",
      "204210  40.802348  0.651359  \n"
     ]
    }
   ],
   "source": [
    "# index를 이용하여 join\n",
    "# price의 모든 데이터는 join에 참여\n",
    "# valuation에서는 참여하지 않는 데이터가 있을 수 있음(없는 index)\n",
    "stock_join = price.join(valuation)\n",
    "print(stock_join)"
   ]
  },
  {
   "cell_type": "code",
   "execution_count": null,
   "metadata": {},
   "outputs": [],
   "source": []
  },
  {
   "cell_type": "markdown",
   "metadata": {},
   "source": [
    "## 3. concat\n",
    "### : 구성 형태와 속성이 균일한 경우 행 또는 열 방향으로 이어 붙이는 함수\n",
    "### - merge나 join은 행 방향으로 결합\n",
    "### - join 옵션에 inner를 적용하면 양쪽에 모두 존재하는 데이터끼리 결합, \n",
    "### - join 옵션에 outer를 설정 시 한 쪽에만 존재하는 데이터도 결합, (기본값은 outer)\n",
    "### - axis 옵션에 0 설정 시 열 방향 결합, 1 설정 시 행 방향 결합"
   ]
  },
  {
   "cell_type": "code",
   "execution_count": 18,
   "metadata": {},
   "outputs": [
    {
     "name": "stdout",
     "output_type": "stream",
     "text": [
      "    a\n",
      "1  a0\n",
      "2  a1\n",
      "3  a2\n",
      "    a   b\n",
      "2  a2  b2\n",
      "3  a3  b3\n",
      "4  a4  b4\n"
     ]
    }
   ],
   "source": [
    "# concat - 열, 행 방향으로 DataFrame을 합쳐주는 함수\n",
    "df1 = pd.DataFrame({'a':['a0', 'a1', 'a2']}, index = [1, 2, 3])\n",
    "df2 = pd.DataFrame({'a':['a2', 'a3', 'a4']\n",
    "                    , 'b':['b2', 'b3', 'b4']}, index = [2, 3, 4])\n",
    "print(df1)\n",
    "print(df2)"
   ]
  },
  {
   "cell_type": "code",
   "execution_count": 19,
   "metadata": {},
   "outputs": [
    {
     "name": "stdout",
     "output_type": "stream",
     "text": [
      "    a    b\n",
      "1  a0  NaN\n",
      "2  a1  NaN\n",
      "3  a2  NaN\n",
      "2  a2   b2\n",
      "3  a3   b3\n",
      "4  a4   b4\n"
     ]
    },
    {
     "name": "stderr",
     "output_type": "stream",
     "text": [
      "C:\\ProgramData\\Anaconda3\\lib\\site-packages\\ipykernel_launcher.py:1: FutureWarning: Sorting because non-concatenation axis is not aligned. A future version\n",
      "of pandas will change to not sort by default.\n",
      "\n",
      "To accept the future behavior, pass 'sort=False'.\n",
      "\n",
      "To retain the current behavior and silence the warning, pass 'sort=True'.\n",
      "\n",
      "  \"\"\"Entry point for launching an IPython kernel.\n"
     ]
    }
   ],
   "source": [
    "# 위 아래로 합치기\n",
    "print(pd.concat([df1, df2]))"
   ]
  },
  {
   "cell_type": "code",
   "execution_count": 20,
   "metadata": {},
   "outputs": [
    {
     "name": "stdout",
     "output_type": "stream",
     "text": [
      "     a    a    b\n",
      "1   a0  NaN  NaN\n",
      "2   a1   a2   b2\n",
      "3   a2   a3   b3\n",
      "4  NaN   a4   b4\n"
     ]
    }
   ],
   "source": [
    "# 좌우로 합치기\n",
    "print(pd.concat([df1, df2], axis = 1))"
   ]
  },
  {
   "cell_type": "code",
   "execution_count": 21,
   "metadata": {},
   "outputs": [
    {
     "name": "stdout",
     "output_type": "stream",
     "text": [
      "    a   a   b\n",
      "2  a1  a2  b2\n",
      "3  a2  a3  b3\n"
     ]
    }
   ],
   "source": [
    "# 한쪽에만 존재하는 데이터 찾기\n",
    "print(pd.concat([df1, df2], axis = 1, join = 'inner'))"
   ]
  },
  {
   "cell_type": "code",
   "execution_count": null,
   "metadata": {},
   "outputs": [],
   "source": []
  },
  {
   "cell_type": "markdown",
   "metadata": {},
   "source": [
    "## 4. append\n",
    "### : 인덱스가 별의미가 없는 경우 무조건 행방으로 합치는 함수\n",
    "\n",
    "## 5. combine_first\n",
    "### : 양쪽에 겹쳐지는 인덱스가 존재하는 경우 무조건 호출하는 쪽의 값으로 설정"
   ]
  },
  {
   "cell_type": "code",
   "execution_count": 22,
   "metadata": {},
   "outputs": [
    {
     "name": "stdout",
     "output_type": "stream",
     "text": [
      "    a    b\n",
      "1  a0  NaN\n",
      "2  a1  NaN\n",
      "3  a2  NaN\n",
      "2  a2   b2\n",
      "3  a3   b3\n",
      "4  a4   b4\n"
     ]
    },
    {
     "name": "stderr",
     "output_type": "stream",
     "text": [
      "C:\\ProgramData\\Anaconda3\\lib\\site-packages\\pandas\\core\\frame.py:7123: FutureWarning: Sorting because non-concatenation axis is not aligned. A future version\n",
      "of pandas will change to not sort by default.\n",
      "\n",
      "To accept the future behavior, pass 'sort=False'.\n",
      "\n",
      "To retain the current behavior and silence the warning, pass 'sort=True'.\n",
      "\n",
      "  sort=sort,\n"
     ]
    }
   ],
   "source": [
    "# 행 방향으로 무조건 합치기\n",
    "print(df1.append(df2))"
   ]
  },
  {
   "cell_type": "code",
   "execution_count": 23,
   "metadata": {},
   "outputs": [
    {
     "name": "stdout",
     "output_type": "stream",
     "text": [
      "    a    b\n",
      "1  a0  NaN\n",
      "2  a1   b2\n",
      "3  a2   b3\n",
      "4  a4   b4\n"
     ]
    }
   ],
   "source": [
    "# 인덱스를 가지고 합침 + 호출하는 쪽의 데이터 우선 적용\n",
    "print(df1.combine_first(df2))"
   ]
  },
  {
   "cell_type": "code",
   "execution_count": null,
   "metadata": {},
   "outputs": [],
   "source": []
  },
  {
   "cell_type": "code",
   "execution_count": null,
   "metadata": {},
   "outputs": [],
   "source": []
  },
  {
   "cell_type": "markdown",
   "metadata": {},
   "source": [
    "# ** 그룹화\n",
    "### - DataFrame의 내용을 그룹 단위로 분할해서 탐색하는 것\n",
    "### - 그룹화한 후 집계, 변환, 필터링 적용\n",
    "### - 분할에는 groupby 함수 이용\n",
    "### - 변환에는 apply 함수 이용\n",
    "\n",
    "\n",
    "## 1. goupby 함수\n",
    "### : 그룹화할 컬럼이름 대입 시 그룹화 수행\n",
    "### - 컬럼 이름은 1개도 되며 컬럼 이름의 list도 가능\n",
    "### - 그룹별 데이터를 별도로 가져오고자 하는 경우 get_group(그룹이름)"
   ]
  },
  {
   "cell_type": "code",
   "execution_count": 27,
   "metadata": {},
   "outputs": [
    {
     "name": "stdout",
     "output_type": "stream",
     "text": [
      "<class 'pandas.core.frame.DataFrame'>\n",
      "RangeIndex: 891 entries, 0 to 890\n",
      "Data columns (total 15 columns):\n",
      "survived       891 non-null int64\n",
      "pclass         891 non-null int64\n",
      "sex            891 non-null object\n",
      "age            714 non-null float64\n",
      "sibsp          891 non-null int64\n",
      "parch          891 non-null int64\n",
      "fare           891 non-null float64\n",
      "embarked       889 non-null object\n",
      "class          891 non-null category\n",
      "who            891 non-null object\n",
      "adult_male     891 non-null bool\n",
      "deck           203 non-null category\n",
      "embark_town    889 non-null object\n",
      "alive          891 non-null object\n",
      "alone          891 non-null bool\n",
      "dtypes: bool(2), category(2), float64(2), int64(4), object(5)\n",
      "memory usage: 80.6+ KB\n"
     ]
    }
   ],
   "source": [
    "import seaborn as sns\n",
    "\n",
    "# titanic 데이터 가져오기\n",
    "titanic = sns.load_dataset('titanic')\n",
    "#print(titanic.head()); print()\n",
    "titanic.info()"
   ]
  },
  {
   "cell_type": "code",
   "execution_count": 29,
   "metadata": {},
   "outputs": [
    {
     "name": "stdout",
     "output_type": "stream",
     "text": [
      "<pandas.core.groupby.generic.DataFrameGroupBy object at 0x000002E73D360208>\n"
     ]
    }
   ],
   "source": [
    "# class 별로 그룹화\n",
    "grouped = titanic.groupby('class')\n",
    "print(grouped) #<pandas.core.groupby.generic.DataFrameGroupBy object at 0x000002E73D360208>"
   ]
  },
  {
   "cell_type": "code",
   "execution_count": null,
   "metadata": {},
   "outputs": [],
   "source": []
  },
  {
   "cell_type": "markdown",
   "metadata": {},
   "source": [
    "### - 빠른 열거 이용하여 그룹화 시 사용한 키와 데이터를 튜플로 접근 가능\n",
    "#### > 파이썬은 튜플을 나누어 접근 가능"
   ]
  },
  {
   "cell_type": "code",
   "execution_count": 35,
   "metadata": {},
   "outputs": [
    {
     "name": "stdout",
     "output_type": "stream",
     "text": [
      "First\n",
      "   survived  pclass     sex   age  sibsp  parch     fare embarked  class  \\\n",
      "1         1       1  female  38.0      1      0  71.2833        C  First   \n",
      "3         1       1  female  35.0      1      0  53.1000        S  First   \n",
      "\n",
      "     who  adult_male deck  embark_town alive  alone  \n",
      "1  woman       False    C    Cherbourg   yes  False  \n",
      "3  woman       False    C  Southampton   yes  False  \n",
      "\n",
      "Second\n",
      "    survived  pclass     sex   age  sibsp  parch     fare embarked   class  \\\n",
      "9          1       2  female  14.0      1      0  30.0708        C  Second   \n",
      "15         1       2  female  55.0      0      0  16.0000        S  Second   \n",
      "\n",
      "      who  adult_male deck  embark_town alive  alone  \n",
      "9   child       False  NaN    Cherbourg   yes  False  \n",
      "15  woman       False  NaN  Southampton   yes   True  \n",
      "\n",
      "Third\n",
      "   survived  pclass     sex   age  sibsp  parch   fare embarked  class    who  \\\n",
      "0         0       3    male  22.0      1      0  7.250        S  Third    man   \n",
      "2         1       3  female  26.0      0      0  7.925        S  Third  woman   \n",
      "\n",
      "   adult_male deck  embark_town alive  alone  \n",
      "0        True  NaN  Southampton    no  False  \n",
      "2       False  NaN  Southampton   yes   True  \n",
      "\n"
     ]
    }
   ],
   "source": [
    "for key, data in grouped :\n",
    "    print(key)\n",
    "    print(data.head(2)); print()"
   ]
  },
  {
   "cell_type": "code",
   "execution_count": 39,
   "metadata": {},
   "outputs": [
    {
     "name": "stdout",
     "output_type": "stream",
     "text": [
      "0      Third\n",
      "2      Third\n",
      "4      Third\n",
      "5      Third\n",
      "7      Third\n",
      "       ...  \n",
      "882    Third\n",
      "884    Third\n",
      "885    Third\n",
      "888    Third\n",
      "890    Third\n",
      "Name: class, Length: 491, dtype: category\n",
      "Categories (3, object): [First, Second, Third]\n"
     ]
    }
   ],
   "source": [
    "# Third에 해당하는 그룹의 데이터만 가져오기\n",
    "third = grouped.get_group('Third')\n",
    "print(third['class'])"
   ]
  },
  {
   "cell_type": "code",
   "execution_count": null,
   "metadata": {},
   "outputs": [],
   "source": []
  },
  {
   "cell_type": "markdown",
   "metadata": {},
   "source": [
    "### - 집계합수 사용 가능\n",
    "#### > (개수, 합계, 평균, 최댓값, 최솟값, 표준편차, 분산, 중간값, 사분위수)"
   ]
  },
  {
   "cell_type": "code",
   "execution_count": 40,
   "metadata": {},
   "outputs": [
    {
     "name": "stdout",
     "output_type": "stream",
     "text": [
      "        survived  pclass        age     sibsp     parch       fare  \\\n",
      "class                                                                \n",
      "First   0.629630     1.0  38.233441  0.416667  0.356481  84.154687   \n",
      "Second  0.472826     2.0  29.877630  0.402174  0.380435  20.662183   \n",
      "Third   0.242363     3.0  25.140620  0.615071  0.393075  13.675550   \n",
      "\n",
      "        adult_male     alone  \n",
      "class                         \n",
      "First     0.550926  0.504630  \n",
      "Second    0.538043  0.565217  \n",
      "Third     0.649695  0.659878  \n"
     ]
    }
   ],
   "source": [
    "# 집계함수 적용\n",
    "print(grouped.mean())\n",
    "\n",
    "# 머신러닝보다 통계분석할 때 사용"
   ]
  },
  {
   "cell_type": "code",
   "execution_count": 41,
   "metadata": {},
   "outputs": [
    {
     "name": "stdout",
     "output_type": "stream",
     "text": [
      "               survived  pclass        age     sibsp     parch        fare  \\\n",
      "class  sex                                                                   \n",
      "First  female  0.968085     1.0  34.611765  0.553191  0.457447  106.125798   \n",
      "       male    0.368852     1.0  41.281386  0.311475  0.278689   67.226127   \n",
      "Second female  0.921053     2.0  28.722973  0.486842  0.605263   21.970121   \n",
      "       male    0.157407     2.0  30.740707  0.342593  0.222222   19.741782   \n",
      "Third  female  0.500000     3.0  21.750000  0.895833  0.798611   16.118810   \n",
      "       male    0.135447     3.0  26.507589  0.498559  0.224784   12.661633   \n",
      "\n",
      "               adult_male     alone  \n",
      "class  sex                           \n",
      "First  female    0.000000  0.361702  \n",
      "       male      0.975410  0.614754  \n",
      "Second female    0.000000  0.421053  \n",
      "       male      0.916667  0.666667  \n",
      "Third  female    0.000000  0.416667  \n",
      "       male      0.919308  0.760807  \n"
     ]
    }
   ],
   "source": [
    "# 2개의 특성으로 그룹화해서 집계\n",
    "grouped = titanic.groupby(['class', 'sex']) # [대괄호] 안에는 숫자형이 아닌 범주형 데이터 삽입해야 함\n",
    "print(grouped.mean())"
   ]
  },
  {
   "cell_type": "code",
   "execution_count": null,
   "metadata": {},
   "outputs": [],
   "source": []
  },
  {
   "cell_type": "markdown",
   "metadata": {},
   "source": [
    "### - mean(), max(), min(), sum(), count(), size(), var(), std(), first(), last(), describe(), info() 등\n",
    "\n",
    "### - apply() 호출하여 변환 가능\n",
    "#### > 매개변수 1개를 받아서 return하는 함수를 대입\n",
    "\n",
    "### - fiter() 호출하여 원하는 데이터만 추출 가능\n",
    "#### > 매개변수 1개를 받아 bool을 리턴하는 함수를 대입\n",
    "\n",
    "### - agg() 이용하여 직접 만든 함수를 대입한 결과를 리턴\n",
    "#### > agg 함수에는 함수의 list 대입 가능"
   ]
  },
  {
   "cell_type": "code",
   "execution_count": 42,
   "metadata": {},
   "outputs": [
    {
     "name": "stdout",
     "output_type": "stream",
     "text": [
      "        survived  pclass    age  sibsp  parch      fare\n",
      "class                                                  \n",
      "First          1       0  79.08      3      4  512.3292\n",
      "Second         1       0  69.33      3      3   73.5000\n",
      "Third          1       0  73.58      8      6   69.5500\n"
     ]
    }
   ],
   "source": [
    "# 그룹화해서 원하는 함수를 적용\n",
    "def func(x):\n",
    "    return x.max() - x.min()\n",
    "\n",
    "grouped = titanic.groupby(['class'])\n",
    "print(grouped.agg(func))"
   ]
  },
  {
   "cell_type": "code",
   "execution_count": 43,
   "metadata": {},
   "outputs": [
    {
     "name": "stdout",
     "output_type": "stream",
     "text": [
      "       survived     pclass       sex           age       sibsp      ...  \\\n",
      "            max min    max min   max     min   max   min   max min  ...   \n",
      "class                                                               ...   \n",
      "First         1   0      1   1  male  female  80.0  0.92     3   0  ...   \n",
      "Second        1   0      2   2  male  female  70.0  0.67     3   0  ...   \n",
      "Third         1   0      3   3  male  female  74.0  0.42     8   0  ...   \n",
      "\n",
      "            fare         who        adult_male        alive     alone         \n",
      "             max  min    max    min        max    min   max min   max    min  \n",
      "class                                                                         \n",
      "First   512.3292  0.0  woman  child       True  False   yes  no  True  False  \n",
      "Second   73.5000  0.0  woman  child       True  False   yes  no  True  False  \n",
      "Third    69.5500  0.0  woman  child       True  False   yes  no  True  False  \n",
      "\n",
      "[3 rows x 22 columns]\n"
     ]
    }
   ],
   "source": [
    "# 여러 개의 함수를 적용\n",
    "print(grouped.agg(['max', 'min']))"
   ]
  },
  {
   "cell_type": "code",
   "execution_count": null,
   "metadata": {},
   "outputs": [],
   "source": []
  },
  {
   "cell_type": "code",
   "execution_count": 55,
   "metadata": {},
   "outputs": [
    {
     "name": "stdout",
     "output_type": "stream",
     "text": [
      "First 216\n",
      "Second 184\n",
      "Third 491\n",
      "\n",
      "< 데이터의 개수가 200이상 >\n",
      "     survived  pclass     sex   age  sibsp  parch     fare embarked  class  \\\n",
      "0           0       3    male  22.0      1      0   7.2500        S  Third   \n",
      "1           1       1  female  38.0      1      0  71.2833        C  First   \n",
      "2           1       3  female  26.0      0      0   7.9250        S  Third   \n",
      "3           1       1  female  35.0      1      0  53.1000        S  First   \n",
      "4           0       3    male  35.0      0      0   8.0500        S  Third   \n",
      "..        ...     ...     ...   ...    ...    ...      ...      ...    ...   \n",
      "885         0       3  female  39.0      0      5  29.1250        Q  Third   \n",
      "887         1       1  female  19.0      0      0  30.0000        S  First   \n",
      "888         0       3  female   NaN      1      2  23.4500        S  Third   \n",
      "889         1       1    male  26.0      0      0  30.0000        C  First   \n",
      "890         0       3    male  32.0      0      0   7.7500        Q  Third   \n",
      "\n",
      "       who  adult_male deck  embark_town alive  alone  \n",
      "0      man        True  NaN  Southampton    no  False  \n",
      "1    woman       False    C    Cherbourg   yes  False  \n",
      "2    woman       False  NaN  Southampton   yes   True  \n",
      "3    woman       False    C  Southampton   yes  False  \n",
      "4      man        True  NaN  Southampton    no   True  \n",
      "..     ...         ...  ...          ...   ...    ...  \n",
      "885  woman       False  NaN   Queenstown    no  False  \n",
      "887  woman       False    B  Southampton   yes   True  \n",
      "888  woman       False  NaN  Southampton    no  False  \n",
      "889    man        True    C    Cherbourg   yes   True  \n",
      "890    man        True  NaN   Queenstown    no   True  \n",
      "\n",
      "[707 rows x 15 columns]\n",
      "\n",
      "0      Third\n",
      "1      First\n",
      "2      Third\n",
      "3      First\n",
      "4      Third\n",
      "       ...  \n",
      "885    Third\n",
      "887    First\n",
      "888    Third\n",
      "889    First\n",
      "890    Third\n",
      "Name: class, Length: 707, dtype: category\n",
      "Categories (3, object): [First, Second, Third]\n"
     ]
    }
   ],
   "source": [
    "# 각 그룹별 데이터 개수 확인\n",
    "for key, data in grouped:\n",
    "    print(key, len(data))\n",
    "    \n",
    "print()\n",
    "    \n",
    "# 데이터가 200개가 안 되는 그룹 제거\n",
    "\n",
    "# 데이터의 개수가 200이상인 여부를 알려주는 함수 작성\n",
    "def over200(x):\n",
    "    return len(x) >= 200\n",
    "\n",
    "grouped_filter = grouped.filter(over200)\n",
    "print('< 데이터의 개수가 200이상 >')\n",
    "print(grouped_filter) ; print()\n",
    "print(grouped_filter['class'])"
   ]
  },
  {
   "cell_type": "code",
   "execution_count": 56,
   "metadata": {},
   "outputs": [
    {
     "name": "stdout",
     "output_type": "stream",
     "text": [
      "     survived  pclass     sex   age  sibsp  parch     fare embarked  class  \\\n",
      "0           0       3    male  22.0      1      0   7.2500        S  Third   \n",
      "1           1       1  female  38.0      1      0  71.2833        C  First   \n",
      "2           1       3  female  26.0      0      0   7.9250        S  Third   \n",
      "3           1       1  female  35.0      1      0  53.1000        S  First   \n",
      "4           0       3    male  35.0      0      0   8.0500        S  Third   \n",
      "..        ...     ...     ...   ...    ...    ...      ...      ...    ...   \n",
      "885         0       3  female  39.0      0      5  29.1250        Q  Third   \n",
      "887         1       1  female  19.0      0      0  30.0000        S  First   \n",
      "888         0       3  female   NaN      1      2  23.4500        S  Third   \n",
      "889         1       1    male  26.0      0      0  30.0000        C  First   \n",
      "890         0       3    male  32.0      0      0   7.7500        Q  Third   \n",
      "\n",
      "       who  adult_male deck  embark_town alive  alone  \n",
      "0      man        True  NaN  Southampton    no  False  \n",
      "1    woman       False    C    Cherbourg   yes  False  \n",
      "2    woman       False  NaN  Southampton   yes   True  \n",
      "3    woman       False    C  Southampton   yes  False  \n",
      "4      man        True  NaN  Southampton    no   True  \n",
      "..     ...         ...  ...          ...   ...    ...  \n",
      "885  woman       False  NaN   Queenstown    no  False  \n",
      "887  woman       False    B  Southampton   yes   True  \n",
      "888  woman       False  NaN  Southampton    no  False  \n",
      "889    man        True    C    Cherbourg   yes   True  \n",
      "890    man        True  NaN   Queenstown    no   True  \n",
      "\n",
      "[707 rows x 15 columns]\n",
      "\n",
      "0      Third\n",
      "1      First\n",
      "2      Third\n",
      "3      First\n",
      "4      Third\n",
      "       ...  \n",
      "885    Third\n",
      "887    First\n",
      "888    Third\n",
      "889    First\n",
      "890    Third\n",
      "Name: class, Length: 707, dtype: category\n",
      "Categories (3, object): [First, Second, Third]\n"
     ]
    }
   ],
   "source": [
    "# 위의 내용을 람다함수로 변환\n",
    "# 파이썬에서의 람다는 이름없는 한 줄짜리 함수\n",
    "grouped_filter = grouped.filter(lambda x:len(x) > 200)\n",
    "print(grouped_filter) ; print()\n",
    "print(grouped_filter['class'])"
   ]
  },
  {
   "cell_type": "code",
   "execution_count": null,
   "metadata": {},
   "outputs": [],
   "source": []
  },
  {
   "cell_type": "code",
   "execution_count": 61,
   "metadata": {},
   "outputs": [
    {
     "name": "stdout",
     "output_type": "stream",
     "text": [
      "First 38.233440860215055\n",
      "Second 29.87763005780347\n",
      "Third 25.14061971830986\n",
      "\n",
      "     survived  pclass     sex   age  sibsp  parch     fare embarked  class  \\\n",
      "1           1       1  female  38.0      1      0  71.2833        C  First   \n",
      "3           1       1  female  35.0      1      0  53.1000        S  First   \n",
      "6           0       1    male  54.0      0      0  51.8625        S  First   \n",
      "11          1       1  female  58.0      0      0  26.5500        S  First   \n",
      "23          1       1    male  28.0      0      0  35.5000        S  First   \n",
      "..        ...     ...     ...   ...    ...    ...      ...      ...    ...   \n",
      "871         1       1  female  47.0      1      1  52.5542        S  First   \n",
      "872         0       1    male  33.0      0      0   5.0000        S  First   \n",
      "879         1       1  female  56.0      0      1  83.1583        C  First   \n",
      "887         1       1  female  19.0      0      0  30.0000        S  First   \n",
      "889         1       1    male  26.0      0      0  30.0000        C  First   \n",
      "\n",
      "       who  adult_male deck  embark_town alive  alone  \n",
      "1    woman       False    C    Cherbourg   yes  False  \n",
      "3    woman       False    C  Southampton   yes  False  \n",
      "6      man        True    E  Southampton    no   True  \n",
      "11   woman       False    C  Southampton   yes   True  \n",
      "23     man        True    A  Southampton   yes   True  \n",
      "..     ...         ...  ...          ...   ...    ...  \n",
      "871  woman       False    D  Southampton   yes  False  \n",
      "872    man        True    B  Southampton    no   True  \n",
      "879  woman       False    C    Cherbourg   yes  False  \n",
      "887  woman       False    B  Southampton   yes   True  \n",
      "889    man        True    C    Cherbourg   yes   True  \n",
      "\n",
      "[216 rows x 15 columns]\n",
      "\n",
      "1      First\n",
      "3      First\n",
      "6      First\n",
      "11     First\n",
      "23     First\n",
      "       ...  \n",
      "871    First\n",
      "872    First\n",
      "879    First\n",
      "887    First\n",
      "889    First\n",
      "Name: class, Length: 216, dtype: category\n",
      "Categories (3, object): [First, Second, Third]\n"
     ]
    }
   ],
   "source": [
    "# age 열의 평균이 30이 안 되는 그룹 제거\n",
    "\n",
    "# age 평균\n",
    "for key, data in grouped:\n",
    "    print(key, data['age'].mean())\n",
    "\n",
    "print()\n",
    "\n",
    "grouped_filter = grouped.filter(lambda x:x['age'].mean() >= 30)\n",
    "print(grouped_filter) ; print()\n",
    "print(grouped_filter['class'])"
   ]
  },
  {
   "cell_type": "code",
   "execution_count": null,
   "metadata": {},
   "outputs": [],
   "source": []
  },
  {
   "cell_type": "markdown",
   "metadata": {},
   "source": [
    "## 2. 멀티 인덱스\n",
    "### - 인덱스를 여러 그룹으로 설정한 것\n",
    "### - 멀티 인덱스로 설정된 데이터 모임에서 특정한 인덱스의 데이터를 가져오고자 하면 loc\n",
    "####  [(첫번째 인덱스값, 두번째 인덱스 값, ...)]\n",
    "\n",
    "### - xs 라는 함수를 이용할 수 있으며 이 경우 첫번째 매개변수로 인덱스 이름을 대입하고 level에 인덱스의 값 대입 "
   ]
  },
  {
   "cell_type": "code",
   "execution_count": 66,
   "metadata": {},
   "outputs": [
    {
     "name": "stdout",
     "output_type": "stream",
     "text": [
      "               survived  pclass        age     sibsp     parch        fare  \\\n",
      "class  sex                                                                   \n",
      "First  female  0.968085     1.0  34.611765  0.553191  0.457447  106.125798   \n",
      "       male    0.368852     1.0  41.281386  0.311475  0.278689   67.226127   \n",
      "Second female  0.921053     2.0  28.722973  0.486842  0.605263   21.970121   \n",
      "       male    0.157407     2.0  30.740707  0.342593  0.222222   19.741782   \n",
      "Third  female  0.500000     3.0  21.750000  0.895833  0.798611   16.118810   \n",
      "       male    0.135447     3.0  26.507589  0.498559  0.224784   12.661633   \n",
      "\n",
      "               adult_male     alone  \n",
      "class  sex                           \n",
      "First  female    0.000000  0.361702  \n",
      "       male      0.975410  0.614754  \n",
      "Second female    0.000000  0.421053  \n",
      "       male      0.916667  0.666667  \n",
      "Third  female    0.000000  0.416667  \n",
      "       male      0.919308  0.760807  \n",
      "\n",
      "< 행 단위로 데이터 접근 >\n",
      "        survived  pclass        age     sibsp     parch       fare  \\\n",
      "sex                                                                  \n",
      "female  0.500000     3.0  21.750000  0.895833  0.798611  16.118810   \n",
      "male    0.135447     3.0  26.507589  0.498559  0.224784  12.661633   \n",
      "\n",
      "        adult_male     alone  \n",
      "sex                           \n",
      "female    0.000000  0.416667  \n",
      "male      0.919308  0.760807  \n",
      "\n",
      "< Third의 male 만 데이터 접근 >\n",
      "survived       0.135447\n",
      "pclass         3.000000\n",
      "age           26.507589\n",
      "sibsp          0.498559\n",
      "parch          0.224784\n",
      "fare          12.661633\n",
      "adult_male     0.919308\n",
      "alone          0.760807\n",
      "Name: (Third, male), dtype: float64\n"
     ]
    }
   ],
   "source": [
    "# 그룹화할 때 2개 이상의 컬럼 이름을 대입하면 멀티인덱스\n",
    "grouped = titanic.groupby(['class', 'sex'])\n",
    "gdf = grouped.mean()\n",
    "print(gdf)\n",
    "\n",
    "\n",
    "# 행 단위로 데이터 접근\n",
    "print(); print(\"< 행 단위로 데이터 접근 >\")\n",
    "print(gdf.loc['Third'])\n",
    "\n",
    "print(); print(\"< Third의 male 만 데이터 접근 >\")\n",
    "print(gdf.loc['Third', 'male'])"
   ]
  },
  {
   "cell_type": "code",
   "execution_count": 67,
   "metadata": {},
   "outputs": [
    {
     "name": "stdout",
     "output_type": "stream",
     "text": [
      "        survived  pclass        age     sibsp     parch       fare  \\\n",
      "class                                                                \n",
      "First   0.368852     1.0  41.281386  0.311475  0.278689  67.226127   \n",
      "Second  0.157407     2.0  30.740707  0.342593  0.222222  19.741782   \n",
      "Third   0.135447     3.0  26.507589  0.498559  0.224784  12.661633   \n",
      "\n",
      "        adult_male     alone  \n",
      "class                         \n",
      "First     0.975410  0.614754  \n",
      "Second    0.916667  0.666667  \n",
      "Third     0.919308  0.760807  \n"
     ]
    }
   ],
   "source": [
    "# xs 인덱스 사용\n",
    "print(gdf.xs('male', level = 'sex'))"
   ]
  },
  {
   "cell_type": "code",
   "execution_count": null,
   "metadata": {},
   "outputs": [],
   "source": []
  },
  {
   "cell_type": "code",
   "execution_count": null,
   "metadata": {},
   "outputs": [],
   "source": []
  },
  {
   "cell_type": "markdown",
   "metadata": {},
   "source": [
    "# 오후 수업"
   ]
  },
  {
   "cell_type": "markdown",
   "metadata": {},
   "source": [
    "## 3. pivot_table()\n",
    "### - 데이터를 그룹화하기 위한 함수\n",
    "### - 데이터를 행과 열 단위로 그룹화하여 기술 통계 값을 출력해주는 함수\n",
    "#### pandas.pivot_table(데이터프레임, values = [연산을 수행할 컬럼이름 나열], index = [index로 사용할 컬럼이름 나열, columns = [컬럼으로 사용할 이름 나열], mragins = [전체 데이터 출력 여부], argfunc = 수행할 함수, fill_value = NA인 경우의 대체값)\n",
    "### - pivot_table 함수 호출 시 인덱스는 대부분 멀티 인덱스로 생성됨\n",
    "#### > 해제 원할 시 reset_index 호출"
   ]
  },
  {
   "cell_type": "code",
   "execution_count": 72,
   "metadata": {},
   "outputs": [
    {
     "name": "stdout",
     "output_type": "stream",
     "text": [
      "   survived  pclass     sex   age  sibsp  parch     fare embarked  class  \\\n",
      "0         0       3    male  22.0      1      0   7.2500        S  Third   \n",
      "1         1       1  female  38.0      1      0  71.2833        C  First   \n",
      "2         1       3  female  26.0      0      0   7.9250        S  Third   \n",
      "3         1       1  female  35.0      1      0  53.1000        S  First   \n",
      "4         0       3    male  35.0      0      0   8.0500        S  Third   \n",
      "\n",
      "     who  adult_male deck  embark_town alive  alone  \n",
      "0    man        True  NaN  Southampton    no  False  \n",
      "1  woman       False    C    Cherbourg   yes  False  \n",
      "2  woman       False  NaN  Southampton   yes   True  \n",
      "3  woman       False    C  Southampton   yes  False  \n",
      "4    man        True  NaN  Southampton    no   True  \n",
      "\n",
      "<class 'pandas.core.frame.DataFrame'>\n",
      "RangeIndex: 891 entries, 0 to 890\n",
      "Data columns (total 15 columns):\n",
      "survived       891 non-null int64\n",
      "pclass         891 non-null int64\n",
      "sex            891 non-null object\n",
      "age            714 non-null float64\n",
      "sibsp          891 non-null int64\n",
      "parch          891 non-null int64\n",
      "fare           891 non-null float64\n",
      "embarked       889 non-null object\n",
      "class          891 non-null category\n",
      "who            891 non-null object\n",
      "adult_male     891 non-null bool\n",
      "deck           203 non-null category\n",
      "embark_town    889 non-null object\n",
      "alive          891 non-null object\n",
      "alone          891 non-null bool\n",
      "dtypes: bool(2), category(2), float64(2), int64(4), object(5)\n",
      "memory usage: 80.6+ KB\n"
     ]
    }
   ],
   "source": [
    "import numpy as np\n",
    "import pandas as pd\n",
    "import seaborn as sns\n",
    "\n",
    "# seaborn에 존재하는 titanic 데이터 가져오기\n",
    "titanic = sns.load_dataset('titanic')\n",
    "print(titanic.head()); print()\n",
    "titanic.info()"
   ]
  },
  {
   "cell_type": "code",
   "execution_count": 74,
   "metadata": {},
   "outputs": [
    {
     "name": "stdout",
     "output_type": "stream",
     "text": [
      "< 첫번째 방법 >\n",
      "      age     sex   class     fare  survived\n",
      "0    22.0    male   Third   7.2500         0\n",
      "1    38.0  female   First  71.2833         1\n",
      "2    26.0  female   Third   7.9250         1\n",
      "3    35.0  female   First  53.1000         1\n",
      "4    35.0    male   Third   8.0500         0\n",
      "..    ...     ...     ...      ...       ...\n",
      "886  27.0    male  Second  13.0000         0\n",
      "887  19.0  female   First  30.0000         1\n",
      "888   NaN  female   Third  23.4500         0\n",
      "889  26.0    male   First  30.0000         1\n",
      "890  32.0    male   Third   7.7500         0\n",
      "\n",
      "[891 rows x 5 columns]\n",
      "\n",
      "< 두번째 방법 >\n",
      "      age     sex   class     fare  survived\n",
      "0    22.0    male   Third   7.2500         0\n",
      "1    38.0  female   First  71.2833         1\n",
      "2    26.0  female   Third   7.9250         1\n",
      "3    35.0  female   First  53.1000         1\n",
      "4    35.0    male   Third   8.0500         0\n",
      "..    ...     ...     ...      ...       ...\n",
      "886  27.0    male  Second  13.0000         0\n",
      "887  19.0  female   First  30.0000         1\n",
      "888   NaN  female   Third  23.4500         0\n",
      "889  26.0    male   First  30.0000         1\n",
      "890  32.0    male   Third   7.7500         0\n",
      "\n",
      "[891 rows x 5 columns]\n",
      "\n"
     ]
    }
   ],
   "source": [
    "# age, sex, class, fare, survived 컬럼만 추출\n",
    "# 새로운 데이터프레임 생성\n",
    "\n",
    "print(\"< 첫번째 방법 >\")\n",
    "df = titanic[['age', 'sex', 'class', 'fare', 'survived']]\n",
    "print(df) ; print()\n",
    "\n",
    "print(\"< 두번째 방법 >\")\n",
    "df = titanic.loc[:, ['age', 'sex', 'class', 'fare', 'survived']]\n",
    "print(df) ; print()"
   ]
  },
  {
   "cell_type": "code",
   "execution_count": 81,
   "metadata": {},
   "outputs": [
    {
     "name": "stdout",
     "output_type": "stream",
     "text": [
      "< class 별로 성별을 구분해서 age의 평균 구하기 >\n",
      "              age           \n",
      "sex        female       male\n",
      "class                       \n",
      "First   34.611765  41.281386\n",
      "Second  28.722973  30.740707\n",
      "Third   21.750000  26.507589\n",
      "\n",
      "< class 별로 성별을 구분해서 age의 평균과 합계 구하기 >\n",
      "             mean                sum         \n",
      "              age                age         \n",
      "sex        female       male  female     male\n",
      "class                                        \n",
      "First   34.611765  41.281386  2942.0  4169.42\n",
      "Second  28.722973  30.740707  2125.5  3043.33\n",
      "Third   21.750000  26.507589  2218.5  6706.42\n",
      "\n"
     ]
    }
   ],
   "source": [
    "# class 별로 성별을 구분해서 age의 평균 구하기\n",
    "pivot1 = pd.pivot_table(df\n",
    "                        , index = ['class']\n",
    "                        , columns = ['sex']\n",
    "                        , values = ['age']\n",
    "                        , aggfunc = 'mean')\n",
    "print(\"< class 별로 성별을 구분해서 age의 평균 구하기 >\")\n",
    "print(pivot1) ; print()\n",
    "\n",
    "# class 별로 성별을 구분해서 age의 평균과 합계 구하기\n",
    "pivot1 = pd.pivot_table(df\n",
    "                        , index = ['class']\n",
    "                        , columns = ['sex']\n",
    "                        , values = ['age']\n",
    "                        , aggfunc = ['mean', 'sum'])\n",
    "print(\"< class 별로 성별을 구분해서 age의 평균과 합계 구하기 >\")\n",
    "print(pivot1) ; print()"
   ]
  },
  {
   "cell_type": "code",
   "execution_count": 96,
   "metadata": {},
   "outputs": [
    {
     "name": "stdout",
     "output_type": "stream",
     "text": [
      "< class와 성별로 생존자를 구분해서 age와 fare의 평균과 합계 구하기 >\n",
      "                    mean                                        sum           \\\n",
      "                     age                   fare                 age            \n",
      "survived               0          1           0           1       0        1   \n",
      "class  sex                                                                     \n",
      "First  female  25.666667  34.939024  110.604167  105.978159    77.0  2865.00   \n",
      "       male    44.581967  36.248000   62.894910   74.637320  2719.5  1449.92   \n",
      "Second female  36.000000  28.080882   18.250000   22.288989   216.0  1909.50   \n",
      "       male    33.369048  16.022000   19.488965   21.095100  2803.0   240.33   \n",
      "Third  female  23.818182  19.329787   19.773093   12.464526  1310.0   908.50   \n",
      "       male    27.255814  22.274211   12.204469   15.579696  5860.0   846.42   \n",
      "\n",
      "                                     \n",
      "                    fare             \n",
      "survived               0          1  \n",
      "class  sex                           \n",
      "First  female   331.8125  9644.0125  \n",
      "       male    4842.9081  3358.6794  \n",
      "Second female   109.5000  1560.2292  \n",
      "       male    1773.4958   358.6167  \n",
      "Third  female  1423.6627   897.4459  \n",
      "       male    3661.3408   732.2457  \n",
      "\n",
      "< 첫번째 인덱스(class)가 First인 데이터 가져오기 >\n",
      "               mean                                        sum           \\\n",
      "                age                   fare                 age            \n",
      "survived          0          1           0           1       0        1   \n",
      "sex                                                                       \n",
      "female    25.666667  34.939024  110.604167  105.978159    77.0  2865.00   \n",
      "male      44.581967  36.248000   62.894910   74.637320  2719.5  1449.92   \n",
      "\n",
      "                                \n",
      "               fare             \n",
      "survived          0          1  \n",
      "sex                             \n",
      "female     331.8125  9644.0125  \n",
      "male      4842.9081  3358.6794  \n",
      "\n",
      "< class가 First이면서 성별이 male인 데이터만 골라보기 >\n",
      "                 mean                                 sum                      \\\n",
      "                  age              fare               age                fare   \n",
      "survived            0       1         0         1       0        1          0   \n",
      "class sex                                                                       \n",
      "First male  44.581967  36.248  62.89491  74.63732  2719.5  1449.92  4842.9081   \n",
      "\n",
      "                       \n",
      "                       \n",
      "survived            1  \n",
      "class sex              \n",
      "First male  3358.6794  \n",
      "\n",
      "< mean 열의 데이터만 가져오기 >\n",
      "                     age                   fare            \n",
      "survived               0          1           0           1\n",
      "class  sex                                                 \n",
      "First  female  25.666667  34.939024  110.604167  105.978159\n",
      "       male    44.581967  36.248000   62.894910   74.637320\n",
      "Second female  36.000000  28.080882   18.250000   22.288989\n",
      "       male    33.369048  16.022000   19.488965   21.095100\n",
      "Third  female  23.818182  19.329787   19.773093   12.464526\n",
      "       male    27.255814  22.274211   12.204469   15.579696\n"
     ]
    },
    {
     "data": {
      "text/html": [
       "<div>\n",
       "<style scoped>\n",
       "    .dataframe tbody tr th:only-of-type {\n",
       "        vertical-align: middle;\n",
       "    }\n",
       "\n",
       "    .dataframe tbody tr th {\n",
       "        vertical-align: top;\n",
       "    }\n",
       "\n",
       "    .dataframe thead tr th {\n",
       "        text-align: left;\n",
       "    }\n",
       "\n",
       "    .dataframe thead tr:last-of-type th {\n",
       "        text-align: right;\n",
       "    }\n",
       "</style>\n",
       "<table border=\"1\" class=\"dataframe\">\n",
       "  <thead>\n",
       "    <tr>\n",
       "      <th></th>\n",
       "      <th></th>\n",
       "      <th colspan=\"2\" halign=\"left\">age</th>\n",
       "      <th colspan=\"2\" halign=\"left\">fare</th>\n",
       "    </tr>\n",
       "    <tr>\n",
       "      <th></th>\n",
       "      <th>survived</th>\n",
       "      <th>0</th>\n",
       "      <th>1</th>\n",
       "      <th>0</th>\n",
       "      <th>1</th>\n",
       "    </tr>\n",
       "    <tr>\n",
       "      <th>class</th>\n",
       "      <th>sex</th>\n",
       "      <th></th>\n",
       "      <th></th>\n",
       "      <th></th>\n",
       "      <th></th>\n",
       "    </tr>\n",
       "  </thead>\n",
       "  <tbody>\n",
       "    <tr>\n",
       "      <td rowspan=\"2\" valign=\"top\">First</td>\n",
       "      <td>female</td>\n",
       "      <td>25.666667</td>\n",
       "      <td>34.939024</td>\n",
       "      <td>110.604167</td>\n",
       "      <td>105.978159</td>\n",
       "    </tr>\n",
       "    <tr>\n",
       "      <td>male</td>\n",
       "      <td>44.581967</td>\n",
       "      <td>36.248000</td>\n",
       "      <td>62.894910</td>\n",
       "      <td>74.637320</td>\n",
       "    </tr>\n",
       "    <tr>\n",
       "      <td rowspan=\"2\" valign=\"top\">Second</td>\n",
       "      <td>female</td>\n",
       "      <td>36.000000</td>\n",
       "      <td>28.080882</td>\n",
       "      <td>18.250000</td>\n",
       "      <td>22.288989</td>\n",
       "    </tr>\n",
       "    <tr>\n",
       "      <td>male</td>\n",
       "      <td>33.369048</td>\n",
       "      <td>16.022000</td>\n",
       "      <td>19.488965</td>\n",
       "      <td>21.095100</td>\n",
       "    </tr>\n",
       "    <tr>\n",
       "      <td rowspan=\"2\" valign=\"top\">Third</td>\n",
       "      <td>female</td>\n",
       "      <td>23.818182</td>\n",
       "      <td>19.329787</td>\n",
       "      <td>19.773093</td>\n",
       "      <td>12.464526</td>\n",
       "    </tr>\n",
       "    <tr>\n",
       "      <td>male</td>\n",
       "      <td>27.255814</td>\n",
       "      <td>22.274211</td>\n",
       "      <td>12.204469</td>\n",
       "      <td>15.579696</td>\n",
       "    </tr>\n",
       "  </tbody>\n",
       "</table>\n",
       "</div>"
      ],
      "text/plain": [
       "                     age                   fare            \n",
       "survived               0          1           0           1\n",
       "class  sex                                                 \n",
       "First  female  25.666667  34.939024  110.604167  105.978159\n",
       "       male    44.581967  36.248000   62.894910   74.637320\n",
       "Second female  36.000000  28.080882   18.250000   22.288989\n",
       "       male    33.369048  16.022000   19.488965   21.095100\n",
       "Third  female  23.818182  19.329787   19.773093   12.464526\n",
       "       male    27.255814  22.274211   12.204469   15.579696"
      ]
     },
     "execution_count": 96,
     "metadata": {},
     "output_type": "execute_result"
    }
   ],
   "source": [
    "# 인덱스로 class와 sex를 설정\n",
    "# 열은 survived\n",
    "# 데이터는 age, fare\n",
    "# 집계함수는 mean과 sum 적용\n",
    "pivot1 = pd.pivot_table(df\n",
    "                        , index = ['class', 'sex']\n",
    "                        , columns = ['survived']\n",
    "                        , values = ['age', 'fare']\n",
    "                        , aggfunc = ['mean', 'sum'])\n",
    "print(\"< class와 성별로 생존자를 구분해서 age와 fare의 평균과 합계 구하기 >\")\n",
    "print(pivot1) ; print()\n",
    "\n",
    "# First인 데이터만 골라보기\n",
    "# 첫번째 인덱스(class)가 First인 데이터 가져오기\n",
    "print(\"< 첫번째 인덱스(class)가 First인 데이터 가져오기 >\")\n",
    "print(pivot1.xs('First')) ; print()\n",
    "\n",
    "# class가 First이면서 성별이 male인 데이터만 골라보기\n",
    "print(\"< class가 First이면서 성별이 male인 데이터만 골라보기 >\")\n",
    "print(pivot1.xs(('First', 'male'), level = ['class', 'sex'])) ; print()\n",
    "\n",
    "# mean 열의 데이터만 가져오기\n",
    "print(\"< mean 열의 데이터만 가져오기 >\")\n",
    "print(pivot1.xs('mean', axis = 1))\n",
    "pivot1.xs('mean', axis = 1)\n"
   ]
  },
  {
   "cell_type": "code",
   "execution_count": null,
   "metadata": {},
   "outputs": [],
   "source": []
  },
  {
   "cell_type": "markdown",
   "metadata": {},
   "source": [
    "# ** 서울시 구별 CCTV 개수와 인구수를 시각화\n",
    "\n",
    "\n",
    "## 1. 데이터 가져오기\n",
    "\n",
    "### 1) data.seoul.go.kr 사이트에서 서울시와 관련된 데이터를 가져오기\n",
    "### - cctv 개수 => cctv.xlsx\n",
    "### - 인구 데이터 => pop.txt\n",
    "\n",
    "\n",
    "## 2. python에서 파일 두 개를 읽고 데이터프레임 만들기"
   ]
  },
  {
   "cell_type": "code",
   "execution_count": 118,
   "metadata": {},
   "outputs": [
    {
     "name": "stdout",
     "output_type": "stream",
     "text": [
      "     기관명    소계  2011년 이전  2012년  2013년  2014년  2015년  2016년  2017년  2018년\n",
      "0  강 남 구  5221    1944.0  195.0  316.0    430    546    765    577    448\n",
      "1  강 동 구  1879     303.0  387.0  134.0     59    144    194    273    385\n",
      "2  강 북 구  1265     243.0   88.0  141.0     74    145    254      1    319\n",
      "3  강 서 구  1617     219.0  155.0  118.0    230    187    190    264    254\n",
      "4  관 악 구  3985     430.0   56.0  419.0    487    609    619    694    671\n",
      "\n",
      "<class 'pandas.core.frame.DataFrame'>\n",
      "RangeIndex: 25 entries, 0 to 24\n",
      "Data columns (total 10 columns):\n",
      "기관명         25 non-null object\n",
      "소계          25 non-null int64\n",
      "2011년 이전    23 non-null float64\n",
      "2012년       23 non-null float64\n",
      "2013년       23 non-null float64\n",
      "2014년       25 non-null int64\n",
      "2015년       25 non-null int64\n",
      "2016년       25 non-null int64\n",
      "2017년       25 non-null int64\n",
      "2018년       25 non-null int64\n",
      "dtypes: float64(3), int64(6), object(1)\n",
      "memory usage: 2.1+ KB\n",
      "\n",
      "     기간  자치구       세대         계       남자       여자      계.1     남자.1     여자.1  \\\n",
      "0  2019   합계  4327605  10010983  4877725  5133258  9729107  4744059  4985048   \n",
      "1  2019  종로구    73947    161869    78215    83654   151290    73746    77544   \n",
      "2  2019   중구    62739    136488    66823    69665   126171    61910    64261   \n",
      "3  2019  용산구   110126    245185   119599   125586   228670   110356   118314   \n",
      "4  2019  성동구   135838    308979   150861   158118   300889   147273   153616   \n",
      "\n",
      "      계.2    남자.2    여자.2  세대당인구  65세이상고령자  \n",
      "0  281876  133666  148210   2.25   1485272  \n",
      "1   10579    4469    6110   2.05     27519  \n",
      "2   10317    4913    5404   2.01     23275  \n",
      "3   16515    9243    7272   2.08     38791  \n",
      "4    8090    3588    4502   2.22     43947  \n",
      "\n",
      "<class 'pandas.core.frame.DataFrame'>\n",
      "RangeIndex: 26 entries, 0 to 25\n",
      "Data columns (total 14 columns):\n",
      "기간          26 non-null int64\n",
      "자치구         26 non-null object\n",
      "세대          26 non-null int64\n",
      "계           26 non-null int64\n",
      "남자          26 non-null int64\n",
      "여자          26 non-null int64\n",
      "계.1         26 non-null int64\n",
      "남자.1        26 non-null int64\n",
      "여자.1        26 non-null int64\n",
      "계.2         26 non-null int64\n",
      "남자.2        26 non-null int64\n",
      "여자.2        26 non-null int64\n",
      "세대당인구       26 non-null float64\n",
      "65세이상고령자    26 non-null int64\n",
      "dtypes: float64(1), int64(12), object(1)\n",
      "memory usage: 3.0+ KB\n",
      "\n"
     ]
    }
   ],
   "source": [
    "'''\n",
    "서울시 구별 CCTV와 인구수 시각화\n",
    "\n",
    "'''\n",
    "import pandas as pd\n",
    "\n",
    "# 1. cctv.xlsx 파일과 pop.txt 파일의 내용 읽기\n",
    "cctv = pd. read_excel('./data/cctv.xlsx')\n",
    "print(cctv.head()) ; print()\n",
    "cctv.info() ; print()\n",
    "\n",
    "pop = pd.read_csv('./data/pop.txt'\n",
    "                  , skiprows = 2\n",
    "                  , delimiter = '\\t'\n",
    "                  , thousands = ',')\n",
    "# txt 파일 불러올 때는 미리 열어보고 데이터가 어떻게 구성되어있는지 꼭 확인\n",
    "print(pop.head()) ; print()\n",
    "pop.info() ; print()"
   ]
  },
  {
   "cell_type": "code",
   "execution_count": null,
   "metadata": {},
   "outputs": [],
   "source": []
  },
  {
   "cell_type": "markdown",
   "metadata": {},
   "source": [
    "## 3. 컬럼이름 수정하고 구 이름을 동일한 형태로 만들기"
   ]
  },
  {
   "cell_type": "code",
   "execution_count": 119,
   "metadata": {},
   "outputs": [
    {
     "name": "stdout",
     "output_type": "stream",
     "text": [
      "0      강남구\n",
      "1      강동구\n",
      "2      강북구\n",
      "3      강서구\n",
      "4      관악구\n",
      "5      광진구\n",
      "6      구로구\n",
      "7      금천구\n",
      "8      노원구\n",
      "9      도봉구\n",
      "10    동대문구\n",
      "11     동작구\n",
      "12     마포구\n",
      "13    서대문구\n",
      "14     서초구\n",
      "15     성동구\n",
      "16     성북구\n",
      "17     송파구\n",
      "18     양천구\n",
      "19    영등포구\n",
      "20     용산구\n",
      "21     은평구\n",
      "22     종로구\n",
      "23      중구\n",
      "24     중랑구\n",
      "Name: 구별, dtype: object\n"
     ]
    }
   ],
   "source": [
    "# 컬럼이름 수정하고 구 이름을 동일한 형태로 만들기\n",
    "# inplace는 트루가 설정되면 현재 데이터 프레임에 적용하고\n",
    "# inplace 옵션이 없다면 현재 데이터 프레임을 복사해서 작업하고 return해줌\n",
    "cctv.rename(columns = {cctv.columns[0] : '구별'}\n",
    "            , inplace = True)\n",
    "pop.rename(columns = {pop.columns[1] : '구별'}\n",
    "            , inplace = True)\n",
    "\n",
    "# cctv 의 구별데이터에서 공백 전부 제거\n",
    "gu = []\n",
    "for x in cctv['구별'] :\n",
    "    gu.append(x.replace(' ', ''))\n",
    "\n",
    "cctv['구별'] = gu\n",
    "\n",
    "print(cctv['구별'])"
   ]
  },
  {
   "cell_type": "code",
   "execution_count": null,
   "metadata": {},
   "outputs": [],
   "source": []
  },
  {
   "cell_type": "markdown",
   "metadata": {},
   "source": [
    "## 4. 불필요한 컬럼이나 열을 제거\n",
    "\n",
    "### - 컬럼이나 열을 제거하는 방법은 두 가지\n",
    "\n",
    "### - 현재 데이터프레임에서 직접 제거\n",
    "#### > drop 함수 이용\n",
    "\n",
    "### - 필요한 컬럼이나 열만 추출"
   ]
  },
  {
   "cell_type": "code",
   "execution_count": 120,
   "metadata": {},
   "outputs": [
    {
     "name": "stdout",
     "output_type": "stream",
     "text": [
      "      기간    구별       계      남자      여자       여성비율\n",
      "1   2019   종로구  161869   78215   83654  51.680062\n",
      "2   2019    중구  136488   66823   69665  51.041117\n",
      "3   2019   용산구  245185  119599  125586  51.220915\n",
      "4   2019   성동구  308979  150861  158118  51.174352\n",
      "5   2019   광진구  366972  176917  190055  51.790055\n",
      "6   2019  동대문구  363023  178490  184533  50.832316\n",
      "7   2019   중랑구  402024  199006  203018  50.498975\n",
      "8   2019   성북구  454744  219099  235645  51.819265\n",
      "9   2019   강북구  317695  154638  163057  51.325013\n",
      "10  2019   도봉구  335631  163961  171670  51.148434\n",
      "11  2019   노원구  537303  259810  277493  51.645533\n",
      "12  2019   은평구  484546  233360  251186  51.839454\n",
      "13  2019  서대문구  323171  153215  169956  52.590115\n",
      "14  2019   마포구  385925  181303  204622  53.021183\n",
      "15  2019   양천구  462285  227019  235266  50.891982\n",
      "16  2019   강서구  598273  289691  308582  51.578794\n",
      "17  2019   구로구  439371  219602  219769  50.019004\n",
      "18  2019   금천구  251820  128954  122866  48.791200\n",
      "19  2019  영등포구  400986  200986  200000  49.877053\n",
      "20  2019   동작구  408912  197706  211206  51.650722\n",
      "21  2019   관악구  517334  259194  258140  49.898132\n",
      "22  2019   서초구  435107  208181  226926  52.154068\n",
      "23  2019   강남구  550209  263345  286864  52.137279\n",
      "24  2019   송파구  682741  330412  352329  51.605074\n",
      "25  2019   강동구  440390  217338  223052  50.648743\n"
     ]
    }
   ],
   "source": [
    "# pop에서 필요한 행과 열만 가져오기\n",
    "# pop에서 기간, 구별, 계, 남자, 여자 열만 추출\n",
    "pop = pop[['기간', '구별', '계', '남자', '여자']]\n",
    "\n",
    "# 0번 행을 제거\n",
    "pop.drop([0], inplace = True)\n",
    "\n",
    "# 새로운 컬럼 추가 - 여성비율 = 여자/계 * 100\n",
    "pop['여성비율'] = pop['여자']/pop['계'] * 100\n",
    "print(pop)"
   ]
  },
  {
   "cell_type": "code",
   "execution_count": null,
   "metadata": {},
   "outputs": [],
   "source": []
  },
  {
   "cell_type": "markdown",
   "metadata": {},
   "source": [
    "## 5. 두 개의 데이터프레임 합치기"
   ]
  },
  {
   "cell_type": "code",
   "execution_count": 121,
   "metadata": {},
   "outputs": [
    {
     "name": "stdout",
     "output_type": "stream",
     "text": [
      "      구별    소계  2011년 이전  2012년  2013년  2014년  2015년  2016년  2017년  2018년  \\\n",
      "0    강남구  5221    1944.0  195.0  316.0    430    546    765    577    448   \n",
      "1    강동구  1879     303.0  387.0  134.0     59    144    194    273    385   \n",
      "2    강북구  1265     243.0   88.0  141.0     74    145    254      1    319   \n",
      "3    강서구  1617     219.0  155.0  118.0    230    187    190    264    254   \n",
      "4    관악구  3985     430.0   56.0  419.0    487    609    619    694    671   \n",
      "5    광진구  1581     470.0   42.0   83.0     87     64     21    468    346   \n",
      "6    구로구  3227     852.0  219.0  349.0    187    268    326    540    486   \n",
      "7    금천구  1634      27.0   17.0  242.0    101    382    136    199    530   \n",
      "8    노원구  1906     481.0  117.0  203.0     80    461    298    110    156   \n",
      "9    도봉구   858     197.0   66.0    8.0    185     59    155    117     71   \n",
      "10  동대문구  2003       NaN    NaN    NaN   1326    111    233    136    197   \n",
      "11   동작구  1780     238.0   93.0   29.0    503    130    254    278    255   \n",
      "12   마포구  1935     585.0  108.0   69.0     70    177    359    372    195   \n",
      "13  서대문구  2121     565.0  233.0  214.0    114    109    277    415    194   \n",
      "14   서초구  2835    1172.0   91.0  228.0    134    215    352    247    396   \n",
      "15   성동구  2679     665.0  109.0  118.0    101    258    201    933    294   \n",
      "16   성북구  3003     779.0   84.0  304.0    241    279    388    285    643   \n",
      "17   송파구  1586     600.0   99.0   88.0     21    166    100    116    396   \n",
      "18   양천구  2775     772.0  161.0  185.0    169    172    349    137    830   \n",
      "19  영등포구  2495     132.0  121.0  206.0    217    366    289    371    793   \n",
      "20   용산구  2063    1279.0  152.0  201.0    107    102     89     60     73   \n",
      "21   은평구  2962    1365.0   83.0   99.0    343    180    296    229    367   \n",
      "22   종로구  1471       8.0    7.0  599.0    132    195    148    281    101   \n",
      "23    중구  1544      25.0  165.0  114.0     80    245    270    317    328   \n",
      "24   중랑구  1068       NaN    NaN    NaN    770    102    121     66      9   \n",
      "\n",
      "      기간       계      남자      여자       여성비율  \n",
      "0   2019  550209  263345  286864  52.137279  \n",
      "1   2019  440390  217338  223052  50.648743  \n",
      "2   2019  317695  154638  163057  51.325013  \n",
      "3   2019  598273  289691  308582  51.578794  \n",
      "4   2019  517334  259194  258140  49.898132  \n",
      "5   2019  366972  176917  190055  51.790055  \n",
      "6   2019  439371  219602  219769  50.019004  \n",
      "7   2019  251820  128954  122866  48.791200  \n",
      "8   2019  537303  259810  277493  51.645533  \n",
      "9   2019  335631  163961  171670  51.148434  \n",
      "10  2019  363023  178490  184533  50.832316  \n",
      "11  2019  408912  197706  211206  51.650722  \n",
      "12  2019  385925  181303  204622  53.021183  \n",
      "13  2019  323171  153215  169956  52.590115  \n",
      "14  2019  435107  208181  226926  52.154068  \n",
      "15  2019  308979  150861  158118  51.174352  \n",
      "16  2019  454744  219099  235645  51.819265  \n",
      "17  2019  682741  330412  352329  51.605074  \n",
      "18  2019  462285  227019  235266  50.891982  \n",
      "19  2019  400986  200986  200000  49.877053  \n",
      "20  2019  245185  119599  125586  51.220915  \n",
      "21  2019  484546  233360  251186  51.839454  \n",
      "22  2019  161869   78215   83654  51.680062  \n",
      "23  2019  136488   66823   69665  51.041117  \n",
      "24  2019  402024  199006  203018  50.498975  \n"
     ]
    }
   ],
   "source": [
    "# cctv와 pop 합치기 - 기준은 '구별'\n",
    "df = pd.merge(cctv, pop, on = '구별')\n",
    "print(df)"
   ]
  },
  {
   "cell_type": "code",
   "execution_count": null,
   "metadata": {},
   "outputs": [],
   "source": []
  },
  {
   "cell_type": "markdown",
   "metadata": {},
   "source": [
    "## 6. 합쳐진 데이터프레임에서 불필요한 컬럼 제거\n",
    "#### 2011년 이전, 2012년, 2013년, 2014년, 2015년, 2016년, 2017년, 기간\n",
    "#### 2018년 남겨짐"
   ]
  },
  {
   "cell_type": "code",
   "execution_count": 122,
   "metadata": {},
   "outputs": [
    {
     "name": "stdout",
     "output_type": "stream",
     "text": [
      "      구별    소계  2018년       계      남자      여자       여성비율\n",
      "0    강남구  5221    448  550209  263345  286864  52.137279\n",
      "1    강동구  1879    385  440390  217338  223052  50.648743\n",
      "2    강북구  1265    319  317695  154638  163057  51.325013\n",
      "3    강서구  1617    254  598273  289691  308582  51.578794\n",
      "4    관악구  3985    671  517334  259194  258140  49.898132\n",
      "5    광진구  1581    346  366972  176917  190055  51.790055\n",
      "6    구로구  3227    486  439371  219602  219769  50.019004\n",
      "7    금천구  1634    530  251820  128954  122866  48.791200\n",
      "8    노원구  1906    156  537303  259810  277493  51.645533\n",
      "9    도봉구   858     71  335631  163961  171670  51.148434\n",
      "10  동대문구  2003    197  363023  178490  184533  50.832316\n",
      "11   동작구  1780    255  408912  197706  211206  51.650722\n",
      "12   마포구  1935    195  385925  181303  204622  53.021183\n",
      "13  서대문구  2121    194  323171  153215  169956  52.590115\n",
      "14   서초구  2835    396  435107  208181  226926  52.154068\n",
      "15   성동구  2679    294  308979  150861  158118  51.174352\n",
      "16   성북구  3003    643  454744  219099  235645  51.819265\n",
      "17   송파구  1586    396  682741  330412  352329  51.605074\n",
      "18   양천구  2775    830  462285  227019  235266  50.891982\n",
      "19  영등포구  2495    793  400986  200986  200000  49.877053\n",
      "20   용산구  2063     73  245185  119599  125586  51.220915\n",
      "21   은평구  2962    367  484546  233360  251186  51.839454\n",
      "22   종로구  1471    101  161869   78215   83654  51.680062\n",
      "23    중구  1544    328  136488   66823   69665  51.041117\n",
      "24   중랑구  1068      9  402024  199006  203018  50.498975\n"
     ]
    }
   ],
   "source": [
    "# 합쳐진 데이터프레임에서 불필요한 컬럼 제거\n",
    "# 2011년 이전, 2012년, 2013년, 2014년, 2015년, 2016년, 2017년. 기간\n",
    "df.drop(['2011년 이전'\n",
    "         , '2012년'\n",
    "         , '2013년'\n",
    "         , '2014년'\n",
    "         , '2015년'\n",
    "         , '2016년'\n",
    "         , '2017년'\n",
    "         , '기간']\n",
    "        , axis = 1, inplace = True)\n",
    "print(df)"
   ]
  },
  {
   "cell_type": "code",
   "execution_count": null,
   "metadata": {},
   "outputs": [],
   "source": []
  },
  {
   "cell_type": "markdown",
   "metadata": {},
   "source": [
    "## 7. 구별 컬럼을 인덱스로 설정"
   ]
  },
  {
   "cell_type": "code",
   "execution_count": 123,
   "metadata": {},
   "outputs": [
    {
     "name": "stdout",
     "output_type": "stream",
     "text": [
      "        소계  2018년       계      남자      여자       여성비율\n",
      "구별                                                  \n",
      "강남구   5221    448  550209  263345  286864  52.137279\n",
      "강동구   1879    385  440390  217338  223052  50.648743\n",
      "강북구   1265    319  317695  154638  163057  51.325013\n",
      "강서구   1617    254  598273  289691  308582  51.578794\n",
      "관악구   3985    671  517334  259194  258140  49.898132\n",
      "광진구   1581    346  366972  176917  190055  51.790055\n",
      "구로구   3227    486  439371  219602  219769  50.019004\n",
      "금천구   1634    530  251820  128954  122866  48.791200\n",
      "노원구   1906    156  537303  259810  277493  51.645533\n",
      "도봉구    858     71  335631  163961  171670  51.148434\n",
      "동대문구  2003    197  363023  178490  184533  50.832316\n",
      "동작구   1780    255  408912  197706  211206  51.650722\n",
      "마포구   1935    195  385925  181303  204622  53.021183\n",
      "서대문구  2121    194  323171  153215  169956  52.590115\n",
      "서초구   2835    396  435107  208181  226926  52.154068\n",
      "성동구   2679    294  308979  150861  158118  51.174352\n",
      "성북구   3003    643  454744  219099  235645  51.819265\n",
      "송파구   1586    396  682741  330412  352329  51.605074\n",
      "양천구   2775    830  462285  227019  235266  50.891982\n",
      "영등포구  2495    793  400986  200986  200000  49.877053\n",
      "용산구   2063     73  245185  119599  125586  51.220915\n",
      "은평구   2962    367  484546  233360  251186  51.839454\n",
      "종로구   1471    101  161869   78215   83654  51.680062\n",
      "중구    1544    328  136488   66823   69665  51.041117\n",
      "중랑구   1068      9  402024  199006  203018  50.498975\n"
     ]
    }
   ],
   "source": [
    "# 구별 컬럼을 인덱스로 설정\n",
    "df.set_index('구별', inplace = True)\n",
    "print(df)"
   ]
  },
  {
   "cell_type": "code",
   "execution_count": null,
   "metadata": {},
   "outputs": [],
   "source": []
  },
  {
   "cell_type": "markdown",
   "metadata": {},
   "source": [
    "## 8. 그래프 그리기\n",
    "#### matplotlib 이용"
   ]
  },
  {
   "cell_type": "code",
   "execution_count": 125,
   "metadata": {},
   "outputs": [
    {
     "data": {
      "image/png": "[encoded data removed]",
      "text/plain": [
       "<Figure size 720x720 with 1 Axes>"
      ]
     },
     "metadata": {
      "needs_background": "light"
     },
     "output_type": "display_data"
    }
   ],
   "source": [
    "# 그래프를 그리기 위한 패키지\n",
    "import matplotlib.pyplot as plt\n",
    "\n",
    "# 그래프에서 한글 처리를 위한 패키지\n",
    "from matplotlib import font_manager, rc\n",
    "import platform\n",
    "\n",
    "# 운영체제를 확인해서 글꼴 설정\n",
    "if platform.system() == 'Windows':\n",
    "    font_name = font_manager.FontProperties(fname = 'c:/Windows/Fonts/malgun.ttf').get_name()\n",
    "    rc('font', family = font_name)\n",
    "elif platform.system() == 'Darwin':\n",
    "    rc('font', family = 'AppleGothic')\n",
    "    \n",
    "# cctv 개수를 가지고 (가로)막대 그래프 그리기\n",
    "df['소계'].plot(kind = 'barh', figsize = (10, 10))\n",
    "plt.show()"
   ]
  },
  {
   "cell_type": "code",
   "execution_count": 126,
   "metadata": {},
   "outputs": [
    {
     "data": {
      "image/png": "[encoded data removed]",
      "text/plain": [
       "<Figure size 720x720 with 1 Axes>"
      ]
     },
     "metadata": {
      "needs_background": "light"
     },
     "output_type": "display_data"
    }
   ],
   "source": [
    "# cctv 개수를 가지고 (가로)막대 그래프 그리기 - 개수별 정렬\n",
    "df['소계'].sort_values().plot(kind = 'barh', figsize = (10, 10))\n",
    "plt.show()"
   ]
  },
  {
   "cell_type": "code",
   "execution_count": 127,
   "metadata": {},
   "outputs": [
    {
     "data": {
      "image/png": "[encoded data removed]",
      "text/plain": [
       "<Figure size 576x576 with 1 Axes>"
      ]
     },
     "metadata": {
      "needs_background": "light"
     },
     "output_type": "display_data"
    }
   ],
   "source": [
    "# 인구수(계)와 cctv 개수(소계)를 가지고 산포도 그리기\n",
    "plt.figure(figsize = (8, 8))\n",
    "plt.scatter(df['계'], df['소계'], s = 50)\n",
    "plt.xlabel('인구수')\n",
    "plt.ylabel('cctv 개수')\n",
    "plt.grid()\n",
    "plt.show()"
   ]
  },
  {
   "cell_type": "code",
   "execution_count": null,
   "metadata": {},
   "outputs": [],
   "source": []
  },
  {
   "cell_type": "markdown",
   "metadata": {},
   "source": [
    "## 10. numpy의 polyfit이라는 함수를 이용해서 다항식을 구하여 선 그래프 그리기\n",
    "### - 이 경우 다항식은 회귀식을 말함"
   ]
  },
  {
   "cell_type": "code",
   "execution_count": 155,
   "metadata": {},
   "outputs": [
    {
     "name": "stdout",
     "output_type": "stream",
     "text": [
      "            3            2\n",
      "-1.155e-13 x + 1.33e-07 x - 0.04274 x + 5500\n"
     ]
    }
   ],
   "source": [
    "# 계와 소계의 데이터를 가지고 다항식 구하기\n",
    "import numpy as np\n",
    "#fp1 = np.polyfit(df['계'], df['소계'], 1) # 1차 다항식\n",
    "fp1 = np.polyfit(df['계'], df['소계'], 3) # 3차 다항식\n",
    "f1 = np.poly1d(fp1)\n",
    "print(f1)"
   ]
  },
  {
   "cell_type": "code",
   "execution_count": 156,
   "metadata": {},
   "outputs": [
    {
     "data": {
      "image/png": "[encoded data removed]",
      "text/plain": [
       "<Figure size 576x576 with 1 Axes>"
      ]
     },
     "metadata": {
      "needs_background": "light"
     },
     "output_type": "display_data"
    }
   ],
   "source": [
    "# 선 그래프 그리기\n",
    "# 10만부터 70만까지 100 단위로 분할한 배열 생성\n",
    "fx = np.linspace(100000, 700000, 100)\n",
    "plt.figure(figsize = (8, 8))\n",
    "plt.scatter(df['계'], df['소계'], s = 50)\n",
    "plt.plot(fx, f1(fx), ls = 'dashed', lw = 3, color = 'g') # lw는 두께\n",
    "plt.xlabel('인구수')\n",
    "plt.ylabel('cctv 개수')\n",
    "plt.grid()\n",
    "plt.show()"
   ]
  },
  {
   "cell_type": "code",
   "execution_count": null,
   "metadata": {},
   "outputs": [],
   "source": []
  },
  {
   "cell_type": "code",
   "execution_count": 157,
   "metadata": {},
   "outputs": [
    {
     "data": {
      "image/png": "[encoded data removed]",
      "text/plain": [
       "<Figure size 1008x864 with 2 Axes>"
      ]
     },
     "metadata": {
      "needs_background": "light"
     },
     "output_type": "display_data"
    }
   ],
   "source": [
    "# 잔차를 색상으로 표시하고 지역 이름을 점 위에 출력\n",
    "df['잔차'] = np.abs(df['소계'] - f1(df['계']))\n",
    "\n",
    "plt.figure(figsize = (14, 12))\n",
    "plt.scatter(df['계'], df['소계'], c = df['잔차'], s = 50)\n",
    "plt.plot(fx, f1(fx), ls = 'dashed', lw = 3, color = 'g') # lw는 두께\n",
    "\n",
    "# 그래프에 텍스트 출력하기\n",
    "for n in range(25) :\n",
    "    plt.text(df['계'][n] * 1.02, df['소계'][n] * 0.98  # x쪽 약간 오른쪽으로(1.02), y 글자를 약간아래로(0.98)\n",
    "             , df.index[n]\n",
    "             , fontsize = 12)\n",
    "\n",
    "plt.xlabel('인구수')\n",
    "plt.ylabel('cctv 개수')\n",
    "plt.colorbar() # 잔차 색상 표시 두드러지도록\n",
    "plt.grid()\n",
    "plt.show()"
   ]
  },
  {
   "cell_type": "code",
   "execution_count": null,
   "metadata": {},
   "outputs": [],
   "source": []
  },
  {
   "cell_type": "code",
   "execution_count": null,
   "metadata": {},
   "outputs": [],
   "source": []
  },
  {
   "cell_type": "markdown",
   "metadata": {},
   "source": [
    "# ** 데이터 구조화\n",
    "\n",
    "\n",
    "## 1. stack 과 unstack\n",
    "### - stack은 컬럼을 인덱스로 이동시켜 데이터를 길게 쌓는 것\n",
    "### - unstack은 쌓은 것을 옆으로 늘어뜨리는 것\n",
    "\n",
    "### - 읽어온 데이터의 구조가 원하는 구조가 아닐 때 구조화 메소드를 이용해서 원하는 구조로 만들어 데이터 분석"
   ]
  },
  {
   "cell_type": "code",
   "execution_count": 158,
   "metadata": {},
   "outputs": [
    {
     "name": "stdout",
     "output_type": "stream",
     "text": [
      "             prd_1  prd_2  prd_3  prd_4\n",
      "cust_1 2015      0      1      2      3\n",
      "       2016      4      5      6      7\n",
      "cust_2 2015      8      9     10     11\n",
      "       2016     12     13     14     15\n"
     ]
    }
   ],
   "source": [
    "# stack과 unstack\n",
    "\n",
    "# 멀티 인덱스 만들기\n",
    "# 튜플의 list\n",
    "mul_index = pd.MultiIndex.from_tuples([('cust_1', '2015'), ('cust_1', '2016')\n",
    "                                       , ('cust_2', '2015'), ('cust_2', '2016')])\n",
    "\n",
    "# 데이터 프레임 만들기\n",
    "data = pd.DataFrame(data = np.arange(16).reshape(4, 4)\n",
    "                    , index = mul_index\n",
    "                    , columns = ['prd_1', 'prd_2', 'prd_3', 'prd_4'])\n",
    "print(data)"
   ]
  },
  {
   "cell_type": "code",
   "execution_count": 159,
   "metadata": {},
   "outputs": [
    {
     "name": "stdout",
     "output_type": "stream",
     "text": [
      "cust_1  2015  prd_1     0\n",
      "              prd_2     1\n",
      "              prd_3     2\n",
      "              prd_4     3\n",
      "        2016  prd_1     4\n",
      "              prd_2     5\n",
      "              prd_3     6\n",
      "              prd_4     7\n",
      "cust_2  2015  prd_1     8\n",
      "              prd_2     9\n",
      "              prd_3    10\n",
      "              prd_4    11\n",
      "        2016  prd_1    12\n",
      "              prd_2    13\n",
      "              prd_3    14\n",
      "              prd_4    15\n",
      "dtype: int32\n"
     ]
    }
   ],
   "source": [
    "# 컬럼들을 인덱스로 설정. - stack\n",
    "# 모든 열을 세로 방향으로 세워서 하나의 열로 만듦\n",
    "# index는 1개의 level이 더 많아짐\n",
    "data_stacked = data.stack()\n",
    "print(data_stacked)"
   ]
  },
  {
   "cell_type": "code",
   "execution_count": 161,
   "metadata": {},
   "outputs": [
    {
     "name": "stdout",
     "output_type": "stream",
     "text": [
      "            cust_1  cust_2\n",
      "2015 prd_1       0       8\n",
      "     prd_2       1       9\n",
      "     prd_3       2      10\n",
      "     prd_4       3      11\n",
      "2016 prd_1       4      12\n",
      "     prd_2       5      13\n",
      "     prd_3       6      14\n",
      "     prd_4       7      15\n",
      "\n",
      "             prd_1  prd_2  prd_3  prd_4\n",
      "cust_1 2015      0      1      2      3\n",
      "       2016      4      5      6      7\n",
      "cust_2 2015      8      9     10     11\n",
      "       2016     12     13     14     15\n",
      "\n",
      "       prd_1      prd_2      prd_3      prd_4     \n",
      "        2015 2016  2015 2016  2015 2016  2015 2016\n",
      "cust_1     0    4     1    5     2    6     3    7\n",
      "cust_2     8   12     9   13    10   14    11   15\n",
      "\n"
     ]
    }
   ],
   "source": [
    "# unstack 은 데이터를 가로 방향으로 늘어뜨리는 것\n",
    "# level 옵션을 이용해서 원하는 만큼만 열을 만들 수 있음\n",
    "# 지금 같은 경우 index가 3가지이기 때문에 0, 1, 2 가능\n",
    "print(data_stacked.unstack(level = 0)); print()\n",
    "print(data_stacked.unstack(level = 2)); print()\n",
    "print(data_stacked.unstack(level = 2).unstack(level = 1)); print()"
   ]
  },
  {
   "cell_type": "code",
   "execution_count": null,
   "metadata": {},
   "outputs": [],
   "source": []
  },
  {
   "cell_type": "markdown",
   "metadata": {},
   "source": [
    "## 2. melt\n",
    "### : 여러 개의 컬럼의 데이터를 합쳐서 하나의 컬럼으로 만드는 것\n",
    "### - 데이터프레임과 id_vars 매개변수에 합치고자 하는 컬럼 이름의 list를 대입하면 됨"
   ]
  },
  {
   "cell_type": "code",
   "execution_count": 164,
   "metadata": {},
   "outputs": [
    {
     "name": "stdout",
     "output_type": "stream",
     "text": [
      "             prd_1  prd_2  prd_3  prd_4\n",
      "cust_1 2015      0      1      2      3\n",
      "       2016      4      5      6      7\n",
      "cust_2 2015      8      9     10     11\n",
      "       2016     12     13     14     15\n",
      "\n",
      "   prd_3  prd_4 variable  value\n",
      "0      2      3    prd_1      0\n",
      "1      6      7    prd_1      4\n",
      "2     10     11    prd_1      8\n",
      "3     14     15    prd_1     12\n",
      "4      2      3    prd_2      1\n",
      "5      6      7    prd_2      5\n",
      "6     10     11    prd_2      9\n",
      "7     14     15    prd_2     13\n",
      "\n",
      "    prd_3 variable  value\n",
      "0       2    prd_1      0\n",
      "1       6    prd_1      4\n",
      "2      10    prd_1      8\n",
      "3      14    prd_1     12\n",
      "4       2    prd_2      1\n",
      "5       6    prd_2      5\n",
      "6      10    prd_2      9\n",
      "7      14    prd_2     13\n",
      "8       2    prd_4      3\n",
      "9       6    prd_4      7\n",
      "10     10    prd_4     11\n",
      "11     14    prd_4     15\n"
     ]
    }
   ],
   "source": [
    "# 2개의 컬럼을 합쳐서 1개로 만들기\n",
    "# 남겨 두고자 하는 컬럼의 list를 id_vars에 대입하면\n",
    "# 나머지 컬럼을 합쳐서 컬럼의 이름은 variable, 값은 value로 설정됨\n",
    "print(data); print()\n",
    "print(pd.melt(data, id_vars = ['prd_3', 'prd_4'])); print()\n",
    "print(pd.melt(data, id_vars = ['prd_3']))"
   ]
  },
  {
   "cell_type": "code",
   "execution_count": null,
   "metadata": {},
   "outputs": [],
   "source": []
  },
  {
   "cell_type": "markdown",
   "metadata": {},
   "source": [
    "## 3.crosstab\n",
    "### : 행과 열을 기준으로 빈도를 세어서 테이블을 만들어주는 함수\n",
    "### - 교차분석 할 때 이용\n",
    "#### > 도수분포표(frequency table)를 만들어주는 기능\n",
    "\n",
    "### - 함수에 행 이름과 열 이름을 설정\n",
    "### - 머신러닝 결과 등을 나타낼 때 자주 이용\n",
    "\n",
    "#### * 테스트 - 실제 TT(참참) TF(참거짓) FT(거짓참) FF(거짓거짓)"
   ]
  },
  {
   "cell_type": "code",
   "execution_count": 167,
   "metadata": {},
   "outputs": [
    {
     "name": "stdout",
     "output_type": "stream",
     "text": [
      "fac_2  c  d\n",
      "fac_1      \n",
      "a      3  0\n",
      "b      1  2\n",
      "fac_2         c         d\n",
      "fac_1                    \n",
      "a      0.500000  0.000000\n",
      "b      0.166667  0.333333\n"
     ]
    }
   ],
   "source": [
    "# 도수분포표 - crosstab\n",
    "data = pd.DataFrame({'id' : ['id1', 'id1', 'id1', 'id2', 'id2', 'id2']\n",
    "                     , 'fac_1' : ['a', 'a', 'a', 'b', 'b', 'b']\n",
    "                     , 'fac_2': ['c', 'c', 'c', 'c', 'd', 'd']})\n",
    "\n",
    "print(pd.crosstab(data['fac_1'], data['fac_2']))\n",
    "\n",
    "# 비율로 출력하기\n",
    "print(pd.crosstab(data['fac_1'], data['fac_2'], normalize = True))\n",
    "# 테스트-실제 에서 T-T + F-F = 정확도 구할 때 이용\n",
    "# T-T / T-T + T-F = 재현도, 재현율"
   ]
  }
 ],
 "metadata": {
  "kernelspec": {
   "display_name": "Python 3",
   "language": "python",
   "name": "python3"
  },
  "language_info": {
   "codemirror_mode": {
    "name": "ipython",
    "version": 3
   },
   "file_extension": ".py",
   "mimetype": "text/x-python",
   "name": "python",
   "nbconvert_exporter": "python",
   "pygments_lexer": "ipython3",
   "version": "3.7.4"
  }
 },
 "nbformat": 4,
 "nbformat_minor": 2
}
