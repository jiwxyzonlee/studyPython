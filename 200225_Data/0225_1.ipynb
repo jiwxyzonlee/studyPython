{
 "cells": [
  {
   "cell_type": "code",
   "execution_count": 1,
   "metadata": {},
   "outputs": [
    {
     "name": "stdout",
     "output_type": "stream",
     "text": [
      "3\n"
     ]
    }
   ],
   "source": [
    "#bool 덧셈\n",
    "b = True\n",
    "result = b + 2 #b를 1로 간주해서 1+2 = 3\n",
    "print(result)"
   ]
  },
  {
   "cell_type": "code",
   "execution_count": 4,
   "metadata": {},
   "outputs": [
    {
     "name": "stdout",
     "output_type": "stream",
     "text": [
      "9.99999999999998\n"
     ]
    }
   ],
   "source": [
    "#실수의 부정확성\n",
    "f = 0.1\n",
    "s = 0.0\n",
    "for i in range(0,100,1):\n",
    "    s = s + 0.1\n",
    "print(s) #0.1을 100번 더했는데 10이아니고 9.99999999998  \n",
    "\n",
    "#위의 경우는 10을 곱해서 1을 만든 후 100번 더하고 10으로 나누면 정확한 결과"
   ]
  },
  {
   "cell_type": "code",
   "execution_count": 6,
   "metadata": {},
   "outputs": [
    {
     "name": "stdout",
     "output_type": "stream",
     "text": [
      "H\n"
     ]
    },
    {
     "ename": "TypeError",
     "evalue": "'str' object does not support item assignment",
     "output_type": "error",
     "traceback": [
      "\u001b[1;31m---------------------------------------------------------------------------\u001b[0m",
      "\u001b[1;31mTypeError\u001b[0m                                 Traceback (most recent call last)",
      "\u001b[1;32m<ipython-input-6-ba343f3c2744>\u001b[0m in \u001b[0;36m<module>\u001b[1;34m\u001b[0m\n\u001b[0;32m      2\u001b[0m \u001b[0ms\u001b[0m \u001b[1;33m=\u001b[0m \u001b[1;34m'Hello Python'\u001b[0m\u001b[1;33m\u001b[0m\u001b[1;33m\u001b[0m\u001b[0m\n\u001b[0;32m      3\u001b[0m \u001b[0mprint\u001b[0m\u001b[1;33m(\u001b[0m\u001b[0ms\u001b[0m\u001b[1;33m[\u001b[0m\u001b[1;36m0\u001b[0m\u001b[1;33m]\u001b[0m\u001b[1;33m)\u001b[0m\u001b[1;33m\u001b[0m\u001b[1;33m\u001b[0m\u001b[0m\n\u001b[1;32m----> 4\u001b[1;33m \u001b[0ms\u001b[0m\u001b[1;33m[\u001b[0m\u001b[1;36m0\u001b[0m\u001b[1;33m]\u001b[0m \u001b[1;33m=\u001b[0m \u001b[1;34m'a'\u001b[0m\u001b[1;33m\u001b[0m\u001b[1;33m\u001b[0m\u001b[0m\n\u001b[0m",
      "\u001b[1;31mTypeError\u001b[0m: 'str' object does not support item assignment"
     ]
    }
   ],
   "source": [
    "#문자열은 부분 수정이 안됨\n",
    "s = 'Hello Python'\n",
    "print(s[0])\n",
    "s[0] = 'a' #문자열은 전체 교체만 가능하지 부분 교체는 안됨"
   ]
  },
  {
   "cell_type": "code",
   "execution_count": 7,
   "metadata": {},
   "outputs": [
    {
     "name": "stdout",
     "output_type": "stream",
     "text": [
      "최대값:      1000\n"
     ]
    }
   ],
   "source": [
    "#서식을 이용한 파이썬 문자열 만들기\n",
    "#첫번째 데이터를 10칸을 확보해서 출력\n",
    "#d가 정수 f가 실수 b가 bool s가 str\n",
    "msg = \"최대값:{0:10d}\".format(1000)\n",
    "print(msg)"
   ]
  },
  {
   "cell_type": "code",
   "execution_count": 12,
   "metadata": {},
   "outputs": [
    {
     "name": "stdout",
     "output_type": "stream",
     "text": [
      "10\t4\t9\t23\t26\t\n",
      "[30, 12, 27, 69, 78]\n",
      "[10, 4, 26]\n",
      "40\n"
     ]
    }
   ],
   "source": [
    "#list에 연산을 해서 새로운 list 만들기\n",
    "li = [10, 4, 9, 23, 26]\n",
    "#데이터를 순차적으로 접근\n",
    "for imsi in li:\n",
    "    print(imsi, end='\\t')\n",
    "print()\n",
    "#li의 요소들을 k에 하나씩 대입해서 3을 곱해서 새로운 list 생성\n",
    "print([k*3 for k in li])\n",
    "#필터링 - 짝수만 골라내기 - 텍스트 마이닝에서 많이 사용하는 문법\n",
    "print([k for k in li if k % 2 == 0])\n",
    "#함수에 사용할 때는 []를 생략\n",
    "print(sum(k for k in li if k % 2 == 0))"
   ]
  },
  {
   "cell_type": "code",
   "execution_count": 13,
   "metadata": {},
   "outputs": [
    {
     "name": "stdout",
     "output_type": "stream",
     "text": [
      "['박문석']\n"
     ]
    }
   ],
   "source": [
    "li = ['박문석', '가', '을']\n",
    "\n",
    "print([k for k in li if len(k) > 1])\n"
   ]
  },
  {
   "cell_type": "code",
   "execution_count": 15,
   "metadata": {},
   "outputs": [
    {
     "name": "stdout",
     "output_type": "stream",
     "text": [
      "[10, 20, 30]\n",
      "[10, 20, 30, 40, 50]\n"
     ]
    }
   ],
   "source": [
    "li = [10,20,30,40,50]\n",
    "t = li[0:3:1] #슬라이싱 - 복제가 됩니다.\n",
    "#슬라이싱 데이터와 원본 데이터는 다른 데이터\n",
    "print(t)\n",
    "t[0] = 1000 #복제된 데이터를 수정해도 원본 데이터에는 아무런 영향이 없음\n",
    "print(li)"
   ]
  },
  {
   "cell_type": "code",
   "execution_count": 21,
   "metadata": {},
   "outputs": [
    {
     "name": "stdout",
     "output_type": "stream",
     "text": [
      "100\t300\t\n",
      "400\t200\t\n",
      "\n",
      "100\n",
      "400\n",
      "300\n",
      "200\n"
     ]
    }
   ],
   "source": [
    "#2차원 list 인 경우 접근\n",
    "li = [[100, 300], [400, 200]]\n",
    "#행단위 접근\n",
    "for imsi in li:\n",
    "    for temp in imsi:\n",
    "        print(temp, end='\\t')\n",
    "    print()\n",
    "print()\n",
    "#열단위 접근 - numpy 나 pandas에는 T 라는 속성을 이용해서 행과 열을 switch\n",
    "for i in range(0, len(li), 1):\n",
    "    for j in range(0, len(li[i]), 1):\n",
    "        print(li[j][i])"
   ]
  },
  {
   "cell_type": "code",
   "execution_count": 22,
   "metadata": {},
   "outputs": [
    {
     "name": "stdout",
     "output_type": "stream",
     "text": [
      "기울기: 4\n",
      "절편: 7\n"
     ]
    }
   ],
   "source": [
    "#회귀분석을 하게되면 결과로 기울기와 절편의 값을 리턴합니다.\n",
    "result = (4, 7) #이 상태면 result[0] 이 기울기, result[1]이 절편\n",
    "\n",
    "slope, intercept = result #0번 데이터가 slope 에 1번 데이터가 intercept에 대입\n",
    "print('기울기:', slope)\n",
    "print('절편:', intercept)\n"
   ]
  },
  {
   "cell_type": "code",
   "execution_count": 25,
   "metadata": {},
   "outputs": [
    {
     "name": "stdout",
     "output_type": "stream",
     "text": [
      "1\n"
     ]
    },
    {
     "ename": "KeyError",
     "evalue": "'age'",
     "output_type": "error",
     "traceback": [
      "\u001b[1;31m---------------------------------------------------------------------------\u001b[0m",
      "\u001b[1;31mKeyError\u001b[0m                                  Traceback (most recent call last)",
      "\u001b[1;32m<ipython-input-25-bffe853c4770>\u001b[0m in \u001b[0;36m<module>\u001b[1;34m\u001b[0m\n\u001b[0;32m      2\u001b[0m \u001b[0mdictionary\u001b[0m \u001b[1;33m=\u001b[0m \u001b[1;33m{\u001b[0m\u001b[1;34m'name'\u001b[0m\u001b[1;33m:\u001b[0m\u001b[1;34m'park'\u001b[0m\u001b[1;33m,\u001b[0m \u001b[1;34m'num'\u001b[0m\u001b[1;33m:\u001b[0m\u001b[1;36m1\u001b[0m\u001b[1;33m}\u001b[0m\u001b[1;33m\u001b[0m\u001b[1;33m\u001b[0m\u001b[0m\n\u001b[0;32m      3\u001b[0m \u001b[0mprint\u001b[0m\u001b[1;33m(\u001b[0m\u001b[0mdictionary\u001b[0m\u001b[1;33m[\u001b[0m\u001b[1;34m'num'\u001b[0m\u001b[1;33m]\u001b[0m\u001b[1;33m)\u001b[0m\u001b[1;33m\u001b[0m\u001b[1;33m\u001b[0m\u001b[0m\n\u001b[1;32m----> 4\u001b[1;33m \u001b[0mprint\u001b[0m\u001b[1;33m(\u001b[0m\u001b[0mdictionary\u001b[0m\u001b[1;33m[\u001b[0m\u001b[1;34m'age'\u001b[0m\u001b[1;33m]\u001b[0m\u001b[1;33m)\u001b[0m\u001b[1;33m\u001b[0m\u001b[1;33m\u001b[0m\u001b[0m\n\u001b[0m",
      "\u001b[1;31mKeyError\u001b[0m: 'age'"
     ]
    }
   ],
   "source": [
    "#Key Error : 없는 key를 사용\n",
    "dictionary = {'name':'park', 'num':1}\n",
    "print(dictionary['num'])\n",
    "print(dictionary['age'])"
   ]
  },
  {
   "cell_type": "code",
   "execution_count": null,
   "metadata": {},
   "outputs": [],
   "source": []
  }
 ],
 "metadata": {
  "kernelspec": {
   "display_name": "Python 3",
   "language": "python",
   "name": "python3"
  },
  "language_info": {
   "codemirror_mode": {
    "name": "ipython",
    "version": 3
   },
   "file_extension": ".py",
   "mimetype": "text/x-python",
   "name": "python",
   "nbconvert_exporter": "python",
   "pygments_lexer": "ipython3",
   "version": "3.7.4"
  }
 },
 "nbformat": 4,
 "nbformat_minor": 2
}
