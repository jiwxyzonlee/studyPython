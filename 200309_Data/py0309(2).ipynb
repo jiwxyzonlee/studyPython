{
 "cells": [
  {
   "cell_type": "code",
   "execution_count": 11,
   "metadata": {},
   "outputs": [],
   "source": [
    "'''\n",
    "**folium\n",
    ": 지도나 단계구분도를 위한 시각화 패키지\n",
    "- 자바스크립트 기반으로 interactive(동적 변화) 하게 시각화\n",
    "- 기본 패키지가 아니므로 설치 필요\n",
    "- jupyter notebook가 크롬에서 실행 중이라면 바로 출력 가능\n",
    "- 다른 IDE 사용 시 save('파일 경로.html')로 저장한 후 브라우저에서 확인해야 함\n",
    "->> IE에서는 자바스크립트 문제로 출력 불가\n",
    "\n",
    "'''\n",
    "\n",
    "import folium\n",
    "m = folium.Map(location = [37.572656, 126.973304], zoom_start = 15)\n",
    "\n",
    "folium.Marker(location = [37.572656, 126.973304]\n",
    "              , popup = 'KB Card'\n",
    "              , icon = folium.Icon(icon = 'cloud')).add_to(m)\n",
    "folium.Marker(location = [37.569027, 126.988000]\n",
    "              , popup = '김떡순원조'\n",
    "              , icon = folium.Icon(icon = 'cloud')).add_to(m)\n",
    "\n",
    "\n",
    "# 지도 출력\n",
    "m\n",
    "\n",
    "# 지도 저장\n",
    "#m.save('map.html')\n"
   ]
  },
  {
   "cell_type": "code",
   "execution_count": null,
   "metadata": {},
   "outputs": [],
   "source": []
  },
  {
   "cell_type": "code",
   "execution_count": 15,
   "metadata": {},
   "outputs": [
    {
     "name": "stdout",
     "output_type": "stream",
     "text": [
      "     Unnamed: 0         위도          경도\n",
      "0  KAIST 서울캠퍼스   37.592573  127.046737\n",
      "1         KC대학교  37.548345  126.854797\n",
      "2  가톨릭대학교(성신교정)  37.585922  127.004328\n",
      "3  가톨릭대학교(성의교정)  37.499623  127.006065\n",
      "4      감리교신학대학교  37.567645  126.961610\n"
     ]
    }
   ],
   "source": [
    "# 서울지역 대학교 파일의 내용 읽어오기\n",
    "import pandas as pd\n",
    "import folium\n",
    "\n",
    "df = pd.read_excel('./data/서울지역 대학교 위치.xlsx')\n",
    "print(df.head())\n",
    "\n",
    "m = folium.Map(location = [37.55, 126.98], zoom_start = 12)\n",
    "\n",
    "# 데이터프레임의 각 셀의 값을 행 단위로 읽기\n",
    "for name, lat, lng in zip(df['Unnamed: 0'], df['위도'], df['경도']):\n",
    "    folium.Marker(location = [lat, lng]\n",
    "                  , popup = name\n",
    "                  , icon = folium.Icon(icon = 'cloud')).add_to(m)\n",
    "    folium.CircleMarker(location = [lat, lng]\n",
    "                        , popup = name\n",
    "                        , radius = 10\n",
    "                        , color = 'green'\n",
    "                        , fill = True\n",
    "                        , fill_color = 'coral'\n",
    "                        , fill_opacity = 0.7).add_to(m)\n",
    "# zip은 여러개의 데이터를 하나로 묶어주는 역할(tuple로 묶어줌)\n",
    "# name, lat, lng로 나누어서 읽기\n",
    "\n",
    "m.save('map.html')"
   ]
  }
 ],
 "metadata": {
  "kernelspec": {
   "display_name": "Python 3",
   "language": "python",
   "name": "python3"
  },
  "language_info": {
   "codemirror_mode": {
    "name": "ipython",
    "version": 3
   },
   "file_extension": ".py",
   "mimetype": "text/x-python",
   "name": "python",
   "nbconvert_exporter": "python",
   "pygments_lexer": "ipython3",
   "version": "3.7.4"
  }
 },
 "nbformat": 4,
 "nbformat_minor": 2
}
