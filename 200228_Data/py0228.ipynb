{
 "cells": [
  {
   "cell_type": "code",
   "execution_count": 1,
   "metadata": {},
   "outputs": [
    {
     "name": "stdout",
     "output_type": "stream",
     "text": [
      "[[ 1  2  3  4]\n",
      " [ 5  6  7  8]\n",
      " [ 9 10 11 12]]\n",
      "\n",
      "[[101. 102. 103. 104.]\n",
      " [105. 106. 107. 108.]\n",
      " [109. 110. 111. 112.]]\n",
      "\n",
      "[[  1.   2.   3.   4. 101. 102. 103. 104.]\n",
      " [  5.   6.   7.   8. 105. 106. 107. 108.]\n",
      " [  9.  10.  11.  12. 109. 110. 111. 112.]]\n",
      "\n",
      "[[  1.   2.   3.   4.]\n",
      " [  5.   6.   7.   8.]\n",
      " [  9.  10.  11.  12.]\n",
      " [101. 102. 103. 104.]\n",
      " [105. 106. 107. 108.]\n",
      " [109. 110. 111. 112.]]\n"
     ]
    }
   ],
   "source": [
    "\n",
    "import numpy as np\n",
    "\n",
    "# 일련 번호 형태로 배열 만들기\n",
    "ar = np.arange(1, 13)\n",
    "\n",
    "# 3행 4열로 변경\n",
    "\n",
    "ar = ar.reshape(3, 4)\n",
    "print(ar)\n",
    "print()\n",
    "\n",
    "# 일정한 간격을 가지고 만들기\n",
    "br = np.linspace(101, 112, num = 12)\n",
    "br = br.reshape(3, 4)\n",
    "print(br)\n",
    "print()\n",
    "\n",
    "# 행 방향으로 합치기\n",
    "print(np.hstack([ar, br]))\n",
    "print()\n",
    "\n",
    "# 열 방향으로 합치기\n",
    "print(np.vstack([ar, br]))\n"
   ]
  },
  {
   "cell_type": "code",
   "execution_count": 7,
   "metadata": {},
   "outputs": [
    {
     "name": "stdout",
     "output_type": "stream",
     "text": [
      "C:\\Users\\admin\n"
     ]
    }
   ],
   "source": [
    "\n",
    "import os\n",
    "\n",
    "print(os.getcwd())\n"
   ]
  },
  {
   "cell_type": "code",
   "execution_count": 2,
   "metadata": {},
   "outputs": [
    {
     "name": "stdout",
     "output_type": "stream",
     "text": [
      "0    1000\n",
      "1    1500\n",
      "2     500\n",
      "dtype: int64\n",
      "\n",
      "1000\n",
      "\n",
      "0    1000\n",
      "1    1500\n",
      "dtype: int64\n",
      "\n",
      "0    1000\n",
      "2     500\n",
      "dtype: int64\n",
      "\n",
      "Orange    1000\n",
      "Apple     1500\n",
      "Banana     500\n",
      "dtype: int64\n",
      "\n",
      "Orange    1000\n",
      "Apple     1500\n",
      "Banana     500\n",
      "dtype: int64\n",
      "\n"
     ]
    }
   ],
   "source": [
    "\n",
    "# Series와 DataFrame은 현재 모듈에 포함\n",
    "from pandas import Series, DataFrame\n",
    "# Series와 DataFrame을 제외하고는 pd로 접근\n",
    "import pandas as pd\n",
    "\n",
    "# Series 만들기\n",
    "good1 = Series([1000, 1500, 500])\n",
    "print(good1) ; print()\n",
    "\n",
    "# 1개의 데이터 접근\n",
    "print(good1[0]) ; print()\n",
    "\n",
    "# 연속된 범위의 데이터 접근\n",
    "print(good1[0:2]) ; print()\n",
    "\n",
    "# 불연속된 데이터 접근\n",
    "print(good1[[0, 2]]) ; print()\n",
    "\n",
    "# 인덱스 설정\n",
    "good1.index = ['Orange', 'Apple', 'Banana']\n",
    "print(good1) ; print()\n",
    "print(good1['Orange':'Banana']) ; print()\n",
    "# Orange부터 Banana까지\n"
   ]
  },
  {
   "cell_type": "code",
   "execution_count": null,
   "metadata": {},
   "outputs": [],
   "source": []
  },
  {
   "cell_type": "code",
   "execution_count": 6,
   "metadata": {},
   "outputs": [
    {
     "name": "stdout",
     "output_type": "stream",
     "text": [
      "1    300.0\n",
      "2    400.0\n",
      "3    350.0\n",
      "4      NaN\n",
      "5      NaN\n",
      "6      NaN\n",
      "dtype: float64\n",
      "\n",
      "1    110.0\n",
      "2    220.0\n",
      "3      NaN\n",
      "4      NaN\n",
      "5      NaN\n",
      "6      NaN\n",
      "dtype: float64\n"
     ]
    }
   ],
   "source": [
    "\n",
    "'''\n",
    "good1 = Series([100, 200, 150],\n",
    "              index = ['1', '2', '3'])\n",
    "'''\n",
    "good1 = Series([100, 200, 150, None, np.nan, np.nan],\n",
    "              index = ['1', '2', '3', '4', '5', '6'])\n",
    "\n",
    "good2 = Series([10, 20, 10],\n",
    "              index = ['1', '2', '4'])\n",
    "\n",
    "print(good1 + 200) ; print() # good1의 모든 요소에 200을 더함\n",
    "print(good1 + good2)\n",
    "# 인덱스가 동일한 데이터끼리 연산\n",
    "# 1과 2번은 양쪽에 같이 있어서 더하기\n",
    "# 3, 4번은 한쪽에만 존재하기 때문에 None"
   ]
  },
  {
   "cell_type": "code",
   "execution_count": 5,
   "metadata": {},
   "outputs": [
    {
     "name": "stdout",
     "output_type": "stream",
     "text": [
      "     name  price manufacture\n",
      "0  orange   2000       korea\n",
      "1   mango   2500      taiwan\n"
     ]
    }
   ],
   "source": [
    "# Dictionary 생성\n",
    "items = {'name': ['orange', 'mango'],\n",
    "        'price':[2000, 2500],\n",
    "        'manufacture':['korea', 'taiwan']}\n",
    "# DataFrame 생성\n",
    "df = DataFrame(items)\n",
    "\n",
    "print(df)"
   ]
  },
  {
   "cell_type": "code",
   "execution_count": null,
   "metadata": {},
   "outputs": [],
   "source": []
  },
  {
   "cell_type": "code",
   "execution_count": 8,
   "metadata": {},
   "outputs": [
    {
     "name": "stdout",
     "output_type": "stream",
     "text": [
      "      name  price manufacture\n",
      "10  orange   2000       korea\n",
      "20   mango   2500      taiwan\n",
      "30   apple   3000       korea\n",
      "40  banana    500     vietnam\n",
      "\n",
      "      name  price manufacture\n",
      "10  orange   2000       korea\n",
      "20   mango   2500      taiwan\n",
      "30   apple   3000       korea\n",
      "\n",
      "<class 'pandas.core.frame.DataFrame'>\n",
      "Int64Index: 4 entries, 10 to 40\n",
      "Data columns (total 3 columns):\n",
      "name           4 non-null object\n",
      "price          4 non-null int64\n",
      "manufacture    4 non-null object\n",
      "dtypes: int64(1), object(2)\n",
      "memory usage: 128.0+ bytes\n",
      "None\n",
      "\n"
     ]
    }
   ],
   "source": [
    "# Dictionary 생성\n",
    "items = {'name': ['orange', 'mango', 'apple', 'banana'],\n",
    "        'price':[2000, 2500, 3000, 500],\n",
    "        'manufacture':['korea', 'taiwan', 'korea', 'vietnam']}\n",
    "# DataFrame 생성\n",
    "df = DataFrame(items)\n",
    "\n",
    "#print(df)\n",
    "\n",
    "# 인덱스 직접 설정\n",
    "df.index = np.arange(10, 50, 10)\n",
    "print(df); print()\n",
    "print(df.head(3)) ; print()\n",
    "print(df.info()); print()\n",
    "\n",
    "\"\"\"\n",
    "<class 'pandas.core.frame.DataFrame'>\n",
    "Int64Index: 4 entries, 10 to 40  - 총 4개의 데이터, 10부터 40까지 인덱스\n",
    "Data columns (total 3 columns):\n",
    "name           4 non-null object\n",
    "price          4 non-null int64\n",
    "manufacture    4 non-null object\n",
    "dtypes: int64(1), object(2)  - 숫자 이외의 자료형은 무조건 object\n",
    "memory usage: 128.0+ bytes\n",
    "None\n",
    "\n",
    "\"\"\""
   ]
  },
  {
   "cell_type": "code",
   "execution_count": null,
   "metadata": {},
   "outputs": [],
   "source": []
  },
  {
   "cell_type": "code",
   "execution_count": 24,
   "metadata": {},
   "outputs": [
    {
     "name": "stdout",
     "output_type": "stream",
     "text": [
      "<class 'sklearn.utils.Bunch'>\n",
      "\n",
      "<class 'builtin_function_or_method'>\n",
      "\n",
      "<built-in method keys of Bunch object at 0x0000023CBDED5888>\n",
      "\n",
      "dict_keys(['data', 'target', 'feature_names', 'DESCR', 'filename'])\n",
      "\n",
      "<class 'numpy.ndarray'>\n",
      "\n",
      "(506, 13)\n",
      "\n",
      "<class 'pandas.core.frame.DataFrame'>\n",
      "RangeIndex: 506 entries, 0 to 505\n",
      "Data columns (total 13 columns):\n",
      "CRIM       506 non-null float64\n",
      "INDUS      506 non-null float64\n",
      "NOX        506 non-null float64\n",
      "RM         506 non-null float64\n",
      "LSTAT      506 non-null float64\n",
      "B          506 non-null float64\n",
      "PTRATIO    506 non-null float64\n",
      "ZN         506 non-null float64\n",
      "CHAS       506 non-null float64\n",
      "AGE        506 non-null float64\n",
      "RAD        506 non-null float64\n",
      "DIS        506 non-null float64\n",
      "TAX        506 non-null float64\n",
      "dtypes: float64(13)\n",
      "memory usage: 51.5 KB\n",
      "None\n",
      "\n"
     ]
    }
   ],
   "source": [
    "# sklearn에서 제공하는 boston 주택 가격 데이터 가져오기\n",
    "from pandas import Series, DataFrame\n",
    "import pandas as pd\n",
    "import numpy as np\n",
    "\n",
    "# sklearn에서 데이터를 쓰기 위한 import\n",
    "from sklearn import datasets\n",
    "\n",
    "boston = datasets.load_boston()\n",
    "# datasets.load_데이터 이름()\n",
    "\n",
    "# 자료형 확인\n",
    "print(type(boston)) ; print() # <class 'sklearn.utils.Bunch'>\n",
    "\n",
    "# 데이터 확인\n",
    "print(type(boston.keys)) ; print() # <class 'builtin_function_or_method'>\n",
    "print(boston.keys) ; print() # <built-in method keys of Bunch object at 0x000001E38C39F168>\n",
    "print(boston.keys()) ; print() #dict_keys(['data', 'target', 'feature_names', 'DESCR', 'filename'])\n",
    "\n",
    "# 실제 데이터의 자료형 확인\n",
    "print(type(boston.data)) ; print()  #<class 'numpy.ndarray'>\n",
    "# DataFrame으로 생성가능한지 확인 (shape 확인)\n",
    "print(boston.data.shape)  ; print()  #(506, 13)\n",
    "\n",
    "# 가져온 데이터셋이 ndarray인 경우 데이터를 파악하기가 어려울 수 있어서\n",
    "# 컬럼이름을 부여한 DataFrame으로 가지고 있는 것이 데이터 파악에 용이\n",
    "# 머신 러닝에 적용할 때는 df.values 로 다시 ndarray로 만들면 됨\n",
    "df = DataFrame(boston.data\n",
    "               , columns = ['CRIM' ,'INDUS', 'NOX', 'RM'\n",
    "                            , 'LSTAT', 'B', 'PTRATIO', 'ZN'\n",
    "                            , 'CHAS', 'AGE', 'RAD', 'DIS', 'TAX'])\n",
    "print(df.info()) ; print()"
   ]
  },
  {
   "cell_type": "code",
   "execution_count": null,
   "metadata": {},
   "outputs": [],
   "source": []
  },
  {
   "cell_type": "code",
   "execution_count": 9,
   "metadata": {},
   "outputs": [
    {
     "name": "stdout",
     "output_type": "stream",
     "text": [
      "                  날짜  종목이름  종가\n",
      "0  2017-04-10다음32000   NaN NaN\n",
      "1  2017-04-11다음34000   NaN NaN\n",
      "2  2017-04-12다음33000   NaN NaN\n"
     ]
    }
   ],
   "source": [
    "# data/data_fwf.txt 파일의 내용을 가지고 DataFrame 만들기\n",
    "# 텍스트를 한 번에 읽은 후 슬라이싱을 이용해서 만들기도 함\n",
    "\n",
    "fwf = pd.read_fwf('./data/data_fwf.txt'\n",
    "                  , width = (10, 2.5)\n",
    "                  , names = ('날짜', '종목이름', '종가')\n",
    "                  , encoding = 'utf-8')\n",
    "# 한글 깨지면 encoding 필요\n",
    "\n",
    "print(fwf) ; print()"
   ]
  },
  {
   "cell_type": "code",
   "execution_count": null,
   "metadata": {},
   "outputs": [],
   "source": []
  },
  {
   "cell_type": "code",
   "execution_count": 6,
   "metadata": {},
   "outputs": [
    {
     "name": "stdout",
     "output_type": "stream",
     "text": [
      "   code  manufacture            name  price\n",
      "0     1        korea           apple   1500\n",
      "1     2        korea      watermelon  15000\n",
      "2     3        korea  oriental melon   1000\n",
      "3     4  philippines          banana    500\n",
      "4     5        korea           lemon   1500\n",
      "\n",
      "              제품명              수량     가격\n",
      "code  manufacture            name  price\n",
      "1           korea           apple   1500\n",
      "2           korea      watermelon  15000\n",
      "3           korea  oriental melon   1000\n",
      "4     philippines          banana    500\n",
      "\n",
      "<class 'pandas.core.frame.DataFrame'>\n",
      "Index: 7 entries, code to 6\n",
      "Data columns (total 3 columns):\n",
      "제품명    7 non-null object\n",
      "수량     7 non-null object\n",
      "가격     7 non-null object\n",
      "dtypes: object(3)\n",
      "memory usage: 224.0+ bytes\n",
      "None\n",
      "\n"
     ]
    }
   ],
   "source": [
    "# item.csv 파일을 읽어서 DataFrame 만들기\n",
    "# 파일 구분자는 메모장으로 열어보면 잘 보임\n",
    "item = pd.read_csv('./data/item.csv')\n",
    "print(item.head()) ; print()\n",
    "#print(item.info()) ; print()\n",
    "\n",
    "good = pd.read_csv('./data/item.csv'\n",
    "                   , header = None\n",
    "                   , names = ['제품명', '수량', '가격'])\n",
    "print(good.head()) ; print()\n",
    "print(good.info()) ; print()"
   ]
  },
  {
   "cell_type": "code",
   "execution_count": 12,
   "metadata": {},
   "outputs": [
    {
     "name": "stdout",
     "output_type": "stream",
     "text": [
      "<pandas.io.parsers.TextFileReader object at 0x0000023CBC8A0B48>\n",
      "      0            1      2      3\n",
      "0  code  manufacture   name  price\n",
      "1     1        korea  apple   1500\n",
      "   0      1               2      3\n",
      "2  2  korea      watermelon  15000\n",
      "3  3  korea  oriental melon   1000\n",
      "   0            1       2     3\n",
      "4  4  philippines  banana   500\n",
      "5  5        korea   lemon  1500\n",
      "   0      1      2    3\n",
      "6  6  korea  mango  700\n"
     ]
    }
   ],
   "source": [
    "# good.csv 파일의 내용을 2개씩 읽어오기\n",
    "goodchunk = pd.read_csv('./data/item.csv'\n",
    "                   , chunksize=2\n",
    "                   , header=None)\n",
    "print(goodchunk) #<pandas.io.parsers.TextFileReader object at 0x0000023CBC8525C8>\n",
    "print()\n",
    "\n",
    "for two in goodchunk:\n",
    "    print(two)"
   ]
  },
  {
   "cell_type": "code",
   "execution_count": null,
   "metadata": {},
   "outputs": [],
   "source": []
  },
  {
   "cell_type": "code",
   "execution_count": 26,
   "metadata": {},
   "outputs": [
    {
     "name": "stdout",
     "output_type": "stream",
     "text": [
      "        0   1      2\n",
      "0   apple  10   1500\n",
      "1  banana   5  15000\n",
      "2  orange  20    500\n",
      "3    pear  30   1500\n",
      "4    kiwi   7   1000\n",
      "5   mango   4    700\n",
      "\n",
      "[['apple', '10', '1500'], ['banana', '5', '15000'], ['orange', '20', '500'], ['pear', '30', '1500'], ['kiwi', '7', '1000'], ['mango', '4', '700 ']]\n",
      "\n",
      "       이름  수량     가격\n",
      "0   apple  10   1500\n",
      "1  banana   5  15000\n",
      "2  orange  20    500\n",
      "3    pear  30   1500\n",
      "4    kiwi   7   1000\n",
      "5   mango   4   700 \n"
     ]
    }
   ],
   "source": [
    "# 문자열이 작은 따옴표로 묶여 있는 경우\n",
    "fruits = pd.read_csv('./data/fruit.csv'\n",
    "                     , header=None\n",
    "                     , sep = '|')\n",
    "print(fruits)\n",
    "print()\n",
    "\n",
    "# 줄 단위로 읽어서 DataFrame 만들기\n",
    "import csv\n",
    "lines = list(csv.reader(open('./data/fruit.csv')\n",
    "                        , delimiter='|'))\n",
    "print(lines)\n",
    "print()\n",
    "\n",
    "fruits = DataFrame(lines, columns=['이름', '수량', '가격'])\n",
    "print(fruits)\n",
    "print()\n",
    "\n",
    "# 파일에 저장\n",
    "fruits.to_csv('fruits.csv')"
   ]
  },
  {
   "cell_type": "code",
   "execution_count": 29,
   "metadata": {},
   "outputs": [
    {
     "name": "stdout",
     "output_type": "stream",
     "text": [
      "   번호                          이름   1과목   2과목   3과목\n",
      "0                          1  이효준  40.0   NaN  45.0\n",
      "1                          2  김성희  42.0  55.0  50.0\n",
      "2                          3  이연숙   NaN  60.0  55.0\n",
      "3                          4  노화현  50.0  70.0  60.0\n",
      "4                          5  최희순  55.0  75.0   NaN\n",
      "5                          6  정원주  60.0  80.0  70.0\n"
     ]
    }
   ],
   "source": [
    "# 엑셀 파일 읽고 쓰기\n",
    "excel = pd.read_excel('./data/excel.xlsx'\n",
    "                      , sheet_name = 'Sheet1')\n",
    "print(excel)\n",
    "\n",
    "# 엑셀로 저장하기\n",
    "writer = pd.ExcelWriter('excel.xlsx')\n",
    "excel.to_excel(writer, sheet_name='연습')\n",
    "writer.save()"
   ]
  },
  {
   "cell_type": "code",
   "execution_count": null,
   "metadata": {},
   "outputs": [],
   "source": []
  },
  {
   "cell_type": "code",
   "execution_count": 34,
   "metadata": {},
   "outputs": [
    {
     "name": "stdout",
     "output_type": "stream",
     "text": [
      "      순위 나라 (및 속령)          인구    기준일자         출처\n",
      "0      1   중화인민공화국  1420060000  2019.0    공식 인구시계\n",
      "1      2        인도  1368780000  2019.0    공식 인구시계\n",
      "2      3        미국   329676200  2019.0    공식 인구시계\n",
      "3      4     인도네시아   270110500  2019.0  공식 연간 예상치\n",
      "4      5       브라질   215850000  2019.0    공식 인구시계\n",
      "..   ...       ...         ...     ...        ...\n",
      "237  238      토켈라우        1400     NaN        NaN\n",
      "238  239    세인트헬레나        7729     NaN        NaN\n",
      "239  240    바티칸 시국         800  2014.0        NaN\n",
      "240  241    코코스 제도         538     NaN        NaN\n",
      "241  242    핏케언 제도          50     NaN        NaN\n",
      "\n",
      "[242 rows x 5 columns]\n"
     ]
    }
   ],
   "source": [
    "# pandas의 read_html 함수 도움말\n",
    "#help(pd.read_html)\n",
    "\n",
    "li = pd.read_html('https://ko.wikipedia.org/wiki/%EC%9D%B8%EA%B5%AC%EC%88%9C_%EB%82%98%EB%9D%BC_%EB%AA%A9%EB%A1%9D'\n",
    "                  , thousands=',')\n",
    "#for df in li:\n",
    "#    print(df.head())\n",
    "\n",
    "print(li[0])"
   ]
  },
  {
   "cell_type": "code",
   "execution_count": null,
   "metadata": {},
   "outputs": [],
   "source": []
  },
  {
   "cell_type": "code",
   "execution_count": 43,
   "metadata": {},
   "outputs": [
    {
     "name": "stdout",
     "output_type": "stream",
     "text": [
      "인포먼트\n",
      "\n",
      "엣지 오브 다크니스\n",
      "\n",
      "베이비 돌\n",
      "\n",
      "황야의 역마차\n",
      "\n",
      "전원 교향곡\n",
      "\n",
      "아버지의 깃발\n",
      "\n",
      "여덟번의감정\n",
      "\n",
      "레드\n",
      "\n",
      "영광의 탈출\n",
      "\n",
      "크로싱\n",
      "\n",
      "맨 인 블랙\n",
      "\n",
      "차형사\n",
      "\n",
      "에이지 오브 드래곤\n",
      "\n",
      "로드 오브 워리어\n",
      "\n",
      "[메이킹 다큐] 도둑들 영화를 만들다!\n",
      "\n",
      "괜찮아요 수달씨\n",
      "\n",
      "파파\n",
      "\n",
      "이케맨 뱅크\n",
      "\n",
      "다중인격소녀 ISOLA\n",
      "\n",
      "위조지폐\n",
      "\n"
     ]
    }
   ],
   "source": [
    "# json 데이터 읽기\n",
    "movies = pd.read_json('http://swiftapi.rubypaper.co.kr:2029/hoppin/movies?version=1&page=1&count=20&genreId=&order=releasedateasc')\n",
    "#print(movies) ; print()\n",
    "#print(movies['hoppin']['movies']['movie']) ; print()\n",
    "for temp in movies['hoppin']['movies']['movie']:\n",
    "    print(temp['title'])\n",
    "    print()"
   ]
  }
 ],
 "metadata": {
  "kernelspec": {
   "display_name": "Python 3",
   "language": "python",
   "name": "python3"
  },
  "language_info": {
   "codemirror_mode": {
    "name": "ipython",
    "version": 3
   },
   "file_extension": ".py",
   "mimetype": "text/x-python",
   "name": "python",
   "nbconvert_exporter": "python",
   "pygments_lexer": "ipython3",
   "version": "3.7.4"
  }
 },
 "nbformat": 4,
 "nbformat_minor": 2
}
